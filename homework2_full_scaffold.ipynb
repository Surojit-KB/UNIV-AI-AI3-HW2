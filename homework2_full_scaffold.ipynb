{
  "nbformat": 4,
  "nbformat_minor": 0,
  "metadata": {
    "kernelspec": {
      "name": "python3",
      "display_name": "Python 3",
      "language": "python"
    },
    "colab": {
      "name": "homework2_full_scaffold.ipynb",
      "provenance": [],
      "collapsed_sections": [
        "93gWCv7UB7b5",
        "OXA-BwXGB7b6",
        "O-ZreP3wB7b6",
        "iZOVTbi5B7b7",
        "3uXG_yt8B7b9",
        "Op0AYMlTB7cF",
        "4c92DJ5vB7cJ",
        "Qlg9WE8GB7cP",
        "ukSWbAl_B7cP"
      ],
      "include_colab_link": true
    },
    "widgets": {
      "application/vnd.jupyter.widget-state+json": {
        "8334755c6a3542df910713640ffac6d3": {
          "model_module": "@jupyter-widgets/controls",
          "model_name": "HBoxModel",
          "state": {
            "_view_name": "HBoxView",
            "_dom_classes": [],
            "_model_name": "HBoxModel",
            "_view_module": "@jupyter-widgets/controls",
            "_model_module_version": "1.5.0",
            "_view_count": null,
            "_view_module_version": "1.5.0",
            "box_style": "",
            "layout": "IPY_MODEL_a841c1486a304b61bf73edbc5f0f17e1",
            "_model_module": "@jupyter-widgets/controls",
            "children": [
              "IPY_MODEL_cb07ce19d45e4f06a5658564a7a6564e",
              "IPY_MODEL_f3eb8d46a8b0443690da5bc1ec44a7be"
            ]
          }
        },
        "a841c1486a304b61bf73edbc5f0f17e1": {
          "model_module": "@jupyter-widgets/base",
          "model_name": "LayoutModel",
          "state": {
            "_view_name": "LayoutView",
            "grid_template_rows": null,
            "right": null,
            "justify_content": null,
            "_view_module": "@jupyter-widgets/base",
            "overflow": null,
            "_model_module_version": "1.2.0",
            "_view_count": null,
            "flex_flow": null,
            "width": null,
            "min_width": null,
            "border": null,
            "align_items": null,
            "bottom": null,
            "_model_module": "@jupyter-widgets/base",
            "top": null,
            "grid_column": null,
            "overflow_y": null,
            "overflow_x": null,
            "grid_auto_flow": null,
            "grid_area": null,
            "grid_template_columns": null,
            "flex": null,
            "_model_name": "LayoutModel",
            "justify_items": null,
            "grid_row": null,
            "max_height": null,
            "align_content": null,
            "visibility": null,
            "align_self": null,
            "height": null,
            "min_height": null,
            "padding": null,
            "grid_auto_rows": null,
            "grid_gap": null,
            "max_width": null,
            "order": null,
            "_view_module_version": "1.2.0",
            "grid_template_areas": null,
            "object_position": null,
            "object_fit": null,
            "grid_auto_columns": null,
            "margin": null,
            "display": null,
            "left": null
          }
        },
        "cb07ce19d45e4f06a5658564a7a6564e": {
          "model_module": "@jupyter-widgets/controls",
          "model_name": "FloatProgressModel",
          "state": {
            "_view_name": "ProgressView",
            "style": "IPY_MODEL_9ad4867efd30423daed0aa8ff6ab5316",
            "_dom_classes": [],
            "description": "100%",
            "_model_name": "FloatProgressModel",
            "bar_style": "success",
            "max": 47959,
            "_view_module": "@jupyter-widgets/controls",
            "_model_module_version": "1.5.0",
            "value": 47959,
            "_view_count": null,
            "_view_module_version": "1.5.0",
            "orientation": "horizontal",
            "min": 0,
            "description_tooltip": null,
            "_model_module": "@jupyter-widgets/controls",
            "layout": "IPY_MODEL_efe3cf2876cb47e79488fea123ea888c"
          }
        },
        "f3eb8d46a8b0443690da5bc1ec44a7be": {
          "model_module": "@jupyter-widgets/controls",
          "model_name": "HTMLModel",
          "state": {
            "_view_name": "HTMLView",
            "style": "IPY_MODEL_36e6f0150ebc497d982c7961d10d9522",
            "_dom_classes": [],
            "description": "",
            "_model_name": "HTMLModel",
            "placeholder": "​",
            "_view_module": "@jupyter-widgets/controls",
            "_model_module_version": "1.5.0",
            "value": " 47959/47959 [1:49:38&lt;00:00,  7.29it/s]",
            "_view_count": null,
            "_view_module_version": "1.5.0",
            "description_tooltip": null,
            "_model_module": "@jupyter-widgets/controls",
            "layout": "IPY_MODEL_24f59020964f40368c24dad0e57a685f"
          }
        },
        "9ad4867efd30423daed0aa8ff6ab5316": {
          "model_module": "@jupyter-widgets/controls",
          "model_name": "ProgressStyleModel",
          "state": {
            "_view_name": "StyleView",
            "_model_name": "ProgressStyleModel",
            "description_width": "initial",
            "_view_module": "@jupyter-widgets/base",
            "_model_module_version": "1.5.0",
            "_view_count": null,
            "_view_module_version": "1.2.0",
            "bar_color": null,
            "_model_module": "@jupyter-widgets/controls"
          }
        },
        "efe3cf2876cb47e79488fea123ea888c": {
          "model_module": "@jupyter-widgets/base",
          "model_name": "LayoutModel",
          "state": {
            "_view_name": "LayoutView",
            "grid_template_rows": null,
            "right": null,
            "justify_content": null,
            "_view_module": "@jupyter-widgets/base",
            "overflow": null,
            "_model_module_version": "1.2.0",
            "_view_count": null,
            "flex_flow": null,
            "width": null,
            "min_width": null,
            "border": null,
            "align_items": null,
            "bottom": null,
            "_model_module": "@jupyter-widgets/base",
            "top": null,
            "grid_column": null,
            "overflow_y": null,
            "overflow_x": null,
            "grid_auto_flow": null,
            "grid_area": null,
            "grid_template_columns": null,
            "flex": null,
            "_model_name": "LayoutModel",
            "justify_items": null,
            "grid_row": null,
            "max_height": null,
            "align_content": null,
            "visibility": null,
            "align_self": null,
            "height": null,
            "min_height": null,
            "padding": null,
            "grid_auto_rows": null,
            "grid_gap": null,
            "max_width": null,
            "order": null,
            "_view_module_version": "1.2.0",
            "grid_template_areas": null,
            "object_position": null,
            "object_fit": null,
            "grid_auto_columns": null,
            "margin": null,
            "display": null,
            "left": null
          }
        },
        "36e6f0150ebc497d982c7961d10d9522": {
          "model_module": "@jupyter-widgets/controls",
          "model_name": "DescriptionStyleModel",
          "state": {
            "_view_name": "StyleView",
            "_model_name": "DescriptionStyleModel",
            "description_width": "",
            "_view_module": "@jupyter-widgets/base",
            "_model_module_version": "1.5.0",
            "_view_count": null,
            "_view_module_version": "1.2.0",
            "_model_module": "@jupyter-widgets/controls"
          }
        },
        "24f59020964f40368c24dad0e57a685f": {
          "model_module": "@jupyter-widgets/base",
          "model_name": "LayoutModel",
          "state": {
            "_view_name": "LayoutView",
            "grid_template_rows": null,
            "right": null,
            "justify_content": null,
            "_view_module": "@jupyter-widgets/base",
            "overflow": null,
            "_model_module_version": "1.2.0",
            "_view_count": null,
            "flex_flow": null,
            "width": null,
            "min_width": null,
            "border": null,
            "align_items": null,
            "bottom": null,
            "_model_module": "@jupyter-widgets/base",
            "top": null,
            "grid_column": null,
            "overflow_y": null,
            "overflow_x": null,
            "grid_auto_flow": null,
            "grid_area": null,
            "grid_template_columns": null,
            "flex": null,
            "_model_name": "LayoutModel",
            "justify_items": null,
            "grid_row": null,
            "max_height": null,
            "align_content": null,
            "visibility": null,
            "align_self": null,
            "height": null,
            "min_height": null,
            "padding": null,
            "grid_auto_rows": null,
            "grid_gap": null,
            "max_width": null,
            "order": null,
            "_view_module_version": "1.2.0",
            "grid_template_areas": null,
            "object_position": null,
            "object_fit": null,
            "grid_auto_columns": null,
            "margin": null,
            "display": null,
            "left": null
          }
        }
      }
    },
    "accelerator": "GPU"
  },
  "cells": [
    {
      "cell_type": "markdown",
      "metadata": {
        "id": "view-in-github",
        "colab_type": "text"
      },
      "source": [
        "<a href=\"https://colab.research.google.com/github/Surojit-KB/UNIV-AI-AI3-HW2/blob/main/homework2_full_scaffold.ipynb\" target=\"_parent\"><img src=\"https://colab.research.google.com/assets/colab-badge.svg\" alt=\"Open In Colab\"/></a>"
      ]
    },
    {
      "cell_type": "markdown",
      "metadata": {
        "id": "BGFkL2zIB7al"
      },
      "source": [
        "![](fig/univ.png)\n",
        "\n",
        "# AI-3: Language Models\n",
        "\n",
        "## Homework 1: RNNs and ELMo\n",
        "\n",
        "\n",
        "**AI3 April 2021**<br/>\n",
        "**Univ.AI**<br/>\n",
        "**Instructor**: Pavlos Protopapas<br />\n",
        "**Maximum Score**: 100\n",
        "\n",
        "<hr style=\"height:2pt\">"
      ]
    },
    {
      "cell_type": "code",
      "metadata": {
        "colab": {
          "base_uri": "https://localhost:8080/",
          "height": 17
        },
        "id": "VcKPswYuB7a1",
        "outputId": "a28f51d6-ede1-48c6-8e1e-10b6d38359d9"
      },
      "source": [
        "#RUN THIS CELL \n",
        "import requests\n",
        "from IPython.core.display import HTML\n",
        "styles = requests.get(\"https://raw.githubusercontent.com/Harvard-IACS/2018-CS109A/master/content/styles/cs109.css\").text\n",
        "HTML(styles)"
      ],
      "execution_count": null,
      "outputs": [
        {
          "output_type": "execute_result",
          "data": {
            "text/html": [
              "<style>\n",
              "blockquote { background: #AEDE94; }\n",
              "h1 { \n",
              "    padding-top: 25px;\n",
              "    padding-bottom: 25px;\n",
              "    text-align: left; \n",
              "    padding-left: 10px;\n",
              "    background-color: #DDDDDD; \n",
              "    color: black;\n",
              "}\n",
              "h2 { \n",
              "    padding-top: 10px;\n",
              "    padding-bottom: 10px;\n",
              "    text-align: left; \n",
              "    padding-left: 5px;\n",
              "    background-color: #EEEEEE; \n",
              "    color: black;\n",
              "}\n",
              "\n",
              "div.exercise {\n",
              "\tbackground-color: #ffcccc;\n",
              "\tborder-color: #E9967A; \t\n",
              "\tborder-left: 5px solid #800080; \n",
              "\tpadding: 0.5em;\n",
              "}\n",
              "\n",
              "div.exercise-r {\n",
              "\tbackground-color: #fce8e8;\n",
              "\tborder-color: #E9967A; \t\n",
              "\tborder-left: 5px solid #800080; \n",
              "\tpadding: 0.5em;\n",
              "}\n",
              "\n",
              "\n",
              "span.sub-q {\n",
              "\tfont-weight: bold;\n",
              "}\n",
              "div.theme {\n",
              "\tbackground-color: #DDDDDD;\n",
              "\tborder-color: #E9967A; \t\n",
              "\tborder-left: 5px solid #800080; \n",
              "\tpadding: 0.5em;\n",
              "\tfont-size: 18pt;\n",
              "}\n",
              "div.gc { \n",
              "\tbackground-color: #AEDE94;\n",
              "\tborder-color: #E9967A; \t \n",
              "\tborder-left: 5px solid #800080; \n",
              "\tpadding: 0.5em;\n",
              "\tfont-size: 12pt;\n",
              "}\n",
              "p.q1 { \n",
              "    padding-top: 5px;\n",
              "    padding-bottom: 5px;\n",
              "    text-align: left; \n",
              "    padding-left: 5px;\n",
              "    background-color: #EEEEEE; \n",
              "    color: black;\n",
              "}\n",
              "header {\n",
              "   padding-top: 35px;\n",
              "    padding-bottom: 35px;\n",
              "    text-align: left; \n",
              "    padding-left: 10px;\n",
              "    background-color: #DDDDDD; \n",
              "    color: black;\n",
              "}\n",
              "</style>\n",
              "\n"
            ],
            "text/plain": [
              "<IPython.core.display.HTML object>"
            ]
          },
          "metadata": {
            "tags": []
          },
          "execution_count": 1
        }
      ]
    },
    {
      "cell_type": "code",
      "metadata": {
        "id": "Uw9kqM40B7a4"
      },
      "source": [
        "# Import necessary libraries\n",
        "\n",
        "import numpy as np\n",
        "import pandas as pd\n",
        "import tensorflow as tf\n",
        "import matplotlib.pyplot as plt\n",
        "from tensorflow.keras import backend\n",
        "from sklearn.decomposition import PCA\n",
        "from tensorflow.keras.utils import to_categorical\n",
        "from sklearn.model_selection import train_test_split\n",
        "from sklearn.metrics import f1_score, confusion_matrix\n",
        "from tensorflow.keras.preprocessing.sequence import pad_sequences\n",
        "from tensorflow.keras.models import Model, Sequential,model_from_json\n",
        "from tensorflow.keras.layers import Input, SimpleRNN, Embedding, Dense, TimeDistributed, GRU,Dropout, Bidirectional, Conv1D, BatchNormalization\n",
        "import warnings\n",
        "warnings.filterwarnings(\"ignore\")\n",
        "    \n",
        "# Set seed for repeatable results\n",
        "np.random.seed(123)\n",
        "tf.random.set_seed(456)\n",
        "plt.style.use(\"ggplot\")"
      ],
      "execution_count": null,
      "outputs": []
    },
    {
      "cell_type": "markdown",
      "metadata": {
        "id": "8tpnhsiSB7a6"
      },
      "source": [
        "<span style=\"color:blue\">\n",
        "**Please note that this notebook is the intellecutal property of Univ.AI and sharing or disseminating it without the explicit consent of Univ.AI is against the academic policy**\n",
        "</span>"
      ]
    },
    {
      "cell_type": "code",
      "metadata": {
        "colab": {
          "base_uri": "https://localhost:8080/"
        },
        "id": "-5EnQkTVCZPz",
        "outputId": "19fe6d5a-c51a-4e92-e045-e71c6f60dac8"
      },
      "source": [
        "from google.colab import drive\n",
        "drive.mount('/content/drive')"
      ],
      "execution_count": null,
      "outputs": [
        {
          "output_type": "stream",
          "text": [
            "Mounted at /content/drive\n"
          ],
          "name": "stdout"
        }
      ]
    },
    {
      "cell_type": "markdown",
      "metadata": {
        "id": "ZEHBOYNkB7a7"
      },
      "source": [
        "### INSTRUCTIONS\n",
        "\n",
        "\n",
        "- This homework is a jupyter notebook. Download and work on it on your local machine.\n",
        "\n",
        "- This homework should be submitted in pairs.\n",
        "\n",
        "- Ensure you and your partner together have submitted the homework only once. Multiple submissions of the same work will be penalised by 2 points.\n",
        "\n",
        "- Please restart the kernel and run the entire notebook again before you submit.\n",
        "\n",
        "- Running cells out of order is a common pitfall in Jupyter Notebooks. To make sure your code works restart the kernel and run the whole notebook again before you submit. \n",
        "\n",
        "- To submit the homework, one of you upload the working notebook on edStem and click the submit button on the bottom right corner.\n",
        "\n",
        "- Submit the homework well before the given deadline. Submissions after the deadline will not be graded.\n",
        "\n",
        "- We have tried to include all the libraries you may need to do the assignment in the imports statement at the top of this notebook. We strongly suggest that you use those and not others as we may not be familiar with them.\n",
        "\n",
        "- Comment your code well. This would help the graders in case there is any issue with the notebook while running. It is important to remember that the graders will not troubleshoot your code. \n",
        "\n",
        "- Please use .head() when viewing data. Do not submit a notebook that is **excessively long**. \n",
        "\n",
        "- In questions that require code to answer, such as \"calculate the $R^2$\", do not just output the value from a cell. Write a `print()` function that includes a reference to the calculated value, **not hardcoded**. For example: \n",
        "```\n",
        "print(f'The R^2 is {R:.4f}')\n",
        "```\n",
        "- Your plots should include clear labels for the $x$ and $y$ axes as well as a descriptive title (\"MSE plot\" is not a descriptive title; \"95 % confidence interval of coefficients of polynomial degree 5\" is).\n",
        "\n",
        "- If any helper function does not work for you please feel free to alter it to suit your requirements and variable names.\n",
        "\n",
        "- **Ensure you make appropriate plots for all the questions it is applicable to, regardless of it being explicitly asked for.**\n",
        "\n",
        "- **Some cells have code, which are meant to help view the output of your code. They will work only for specific variable names. In case you use different variable names, (only if it is not specifically mentioned in the question), alter the print code given to you.**\n",
        "\n",
        "<span style=\"color:red\">**Model training can be very slow; start doing this HW early.**</span>\n",
        "\n",
        "\n",
        "<hr style=\"height:2pt\">"
      ]
    },
    {
      "cell_type": "markdown",
      "metadata": {
        "id": "IjeEJLjZB7a9"
      },
      "source": [
        "### Names of the people who worked on this homework together\n",
        "#### / Names here/"
      ]
    },
    {
      "cell_type": "markdown",
      "metadata": {
        "id": "7bn-eAXvB7bA"
      },
      "source": [
        "### DATASET ACCESS\n",
        "\n",
        "**Please note that all the datasets used in this homework is available to you on edStem. You will find it in the resources tab (on the top right) next to your lessons tab. Additionally, some datasets have been provided in a form that will allow you to access it directly on google colab by uncommenting and running some cells.**"
      ]
    },
    {
      "cell_type": "markdown",
      "metadata": {
        "id": "XG2GyVl8B7bB"
      },
      "source": [
        "### **HOMEWORK QUIZ**\n",
        "\n",
        "**For each part of the homework, there is an associated quiz on edStem. You are required to attempt that after completing each section of this homework. Please note that the quiz is one attempt only.**\n",
        "\n",
        "\n",
        "![](fig/one_attempt.png)"
      ]
    },
    {
      "cell_type": "markdown",
      "metadata": {
        "id": "KIomJ1UFB7bD"
      },
      "source": [
        "<div class=\"alert alert-block alert-danger\" style=\"color:black;background-color:#EFF8D0\">\n",
        "    \n",
        "## **PART 1 [35 points]: Named Entity Recognition**\n",
        "<br />    \n",
        "Named entity recognition (NER) seeks to locate and classify named entities present in unstructured text into predefined categories such as organizations, locations, expressions of times, names of persons, etc. This technique is often used in real use cases such as classifying content for news providers, efficient search algorithms over large corpora and content-based recommendation systems. \n",
        "\n",
        "This represents an interesting \"many-to-many\" problem, allowing us to experiment with recurrent architectures and compare their performances against other models.\n",
        "    \n",
        "    \n",
        "In the first part of the homework, you are expected to build a model that will tag words into predefined categories.  \n",
        "    \n",
        "    \n",
        "The dataset consists of sentences (```Sentence #``` column), each composed of words (```Word``` column) with part-of-speech tagging (```POS``` tagging) and inside–outside–beginning (IOB) named entity tags (```Tag``` column) attached. ```POS``` will not be used for this homework. We will predict ```Tag``` using only the words themselves.\n",
        "\n",
        "Essential info about entities:\n",
        "* geo = Geographical Entity\n",
        "* org = Organization\n",
        "* per = Person\n",
        "* gpe = Geopolitical Entity\n",
        "* tim = Time indicator\n",
        "* art = Artifact\n",
        "* eve = Event\n",
        "* nat = Natural Phenomenon\n",
        "\n",
        "IOB prefix:\n",
        "* B: beginning of named entity\n",
        "* I: inside of named entity\n",
        "* O: outside of named entity\n",
        "\n",
        "</div>"
      ]
    },
    {
      "cell_type": "markdown",
      "metadata": {
        "id": "4UB1IGq6B7bE"
      },
      "source": [
        "<div class=\"alert alert-block alert-danger\" style=\"color:black;background-color:#EFF8D0\">\n",
        "\n",
        "## **PART 1: Questions**\n",
        "<br />\n",
        "\n",
        "### **1.1 [14 points] PREPROCESS THE DATASET**\n",
        "<br />\n",
        "    \n",
        "**1.1.1** - Read in the dataset `named_entity.csv` into a pandas dataframe using the provided code below.\n",
        "<br /><br />\n",
        "    \n",
        "**1.1.2** - Create a list of unique words found in the 'Word' column and sort it in alphabetic order. Then append the special word \"ENDPAD\" to the end of the list, and assign it to the variable ```words```. Store the length of this list as ```n_words```. **Print your results for `n_words`**.\n",
        "<br /><br />\n",
        "    \n",
        "**1.1.3** - Create a list of unique tags and sort it in alphabetic order. Then append the special word \"PAD\" to the end of the list, and assign it to the variable ```tags```. Store the length of this list as ```n_tags```. **Print your results for `n_tags`**.\n",
        "<br /><br />\n",
        "    \n",
        "**1.1.4** - Process the data into a list of sentences where each sentence is a list of (word, tag) tuples. Here is an example of how the first sentence in the list should look:\n",
        "\n",
        "[('Thousands', 'O'),\n",
        " ('of',  'O'),\n",
        " ('demonstrators', 'O'),\n",
        " ('have', 'O'),\n",
        " ('marched', 'O'),\n",
        " ('through', 'O'),\n",
        " ('London', 'B-geo'),\n",
        " ('to', 'O'),\n",
        " ('protest', 'O'),\n",
        " ('the', 'O'),\n",
        " ('war', 'O'),\n",
        " ('in', 'O'),\n",
        " ('Iraq', 'B-geo'),\n",
        " ('and', 'O'),\n",
        " ('demand', 'O'),\n",
        " ('the', 'O'),\n",
        " ('withdrawal', 'O'),\n",
        " ('of', 'O'),\n",
        " ('British', 'B-gpe'),\n",
        " ('troops', 'O'),\n",
        " ('from', 'O'),\n",
        " ('that', 'O'),\n",
        " ('country', 'O'),\n",
        " ('.', 'O')]\n",
        " \n",
        "<br />\n",
        "    \n",
        "**1.1.5** - Find out the number of words in the longest sentence, and store it to variable ```max_len```. **Print your results for `max_len`.**\n",
        "<br /><br />\n",
        "    \n",
        "**1.1.6** - It's now time to convert the sentences data in a suitable format for the RNNs training/evaluation procedures. Create a ```word2idx``` dictionary mapping distinct words from the dataset into distinct integers. Also create a ```idx2word``` dictionary.\n",
        "<br /><br />\n",
        "    \n",
        "**1.1.7** - Prepare the predictors matrix ```X```, as a list of lists, where each inner list is a sequence of words mapped into integers accordly to the ```word2idx``` dictionary. \n",
        "<br /><br />\n",
        "    \n",
        "**1.1.8** - Apply the keras ```pad_sequences``` function to standardize the predictors. You should retrieve a matrix with all padded sentences and length equal to ```max_len``` previously computed. The dimensionality should therefore be equal to ```[# of sentences, max_len]```. Run the provided cell to print your results. Your ```X[i]``` now should be something similar to this:\n",
        "<br />\n",
        "    \n",
        "`[ 8193 27727 31033 33289 22577 33464 23723 16665 33464 31142 31319 28267\n",
        " 27700 33246 28646 16052    21 16915 17349  7924 32879 32985 18238 23555\n",
        "    24 35178 35178 35178 35178 35178 35178 35178 35178 35178 35178 35178\n",
        " 35178 35178 35178 35178 35178 35178 35178 35178 35178 35178 35178 35178\n",
        " 35178 35178 35178 35178 35178 35178 35178 35178 35178 35178 35178 35178\n",
        " 35178 35178 35178 35178 35178 35178 35178 35178 35178 35178 35178 35178\n",
        " 35178 35178 35178 35178 35178 35178 35178 35178 35178 35178 35178 35178\n",
        " 35178 35178 35178 35178 35178 35178 35178 35178 35178 35178 35178 35178\n",
        " 35178 35178 35178 35178 35178 35178 35178 35178]`\n",
        "<br /><br />\n",
        "    \n",
        "**1.1.9** - Create a ```tag2idx``` dictionary mapping distinct named entity tags from the dataset into distinct integers. Also create a ```idx2tag``` dictionary.\n",
        "<br /><br />\n",
        "    \n",
        "**1.1.10** - Prepare targets matrix ```Y```, as a list of lists,where each inner list is a sequence of tags mapped into integers accordly to the ```tag2idx``` dictionary.\n",
        "<br /><br />\n",
        "    \n",
        "**1.1.11** - Apply the keras ```pad_sequences``` function to standardize the targets. Inject the ```PAD``` tag for the padding words. You should retrieve a matrix with all padded sentences'tags and length equal to ```max_length``` previously computed. \n",
        "<br /><br />\n",
        "    \n",
        "**1.1.12** - Use the ```to_categorical``` keras function to one-hot encode the tags. Now your ```Y``` should have dimension ```[# of sentences, max_len, n_tags]```. Run the provided cell to print your results.\n",
        "<br /><br />\n",
        "    \n",
        "**1.1.13** - Split the dataset into train and test sets (test 10%).\n",
        "<br /><br />\n",
        "    \n",
        "### **1.2 [10 points] MODELLING THE DATA**\n",
        "      \n",
        "After preparing the train and test sets, you need to build the following model:\n",
        "    \n",
        "> - Bidirectional Gated Recurrent Neural Network with input/ouput dimensionalities as \n",
        "\n",
        "input: [# of sentences, max_len]\n",
        "output: [# of sentences, max_len, n_tags]\n",
        "Follow the information in each model's section to set up the architecture of each model.\n",
        "\n",
        "A further plot_training_history helper function is given in case you need to check the training history.\n",
        "<br /><br />  \n",
        "    \n",
        "**1.2.1** - BIDIRECTIONAL GATED RECURRENT NEURAL NETWORK\n",
        "<br />\n",
        "    \n",
        "**1.2.1.1** - Explain how a Bidirectional GRU differs from RNNs and LSTMs.\n",
        "<br />\n",
        "    \n",
        "**1.2.1.2** - Define, compile, and train a bidirectional GRU by wrapping your GRU layer in a Bidirectional one. Use the provided code to plot the training history.\n",
        "<br />\n",
        "    \n",
        "**1.2.1.3** - Visualize outputs from bidirectional GRU layer, one subplot for B-tags and one subplot for I-tags. Comment on the patterns you observed.\n",
        "<br /><br />\n",
        "\n",
        "\n",
        "    \n",
        "### **1.3 [6 points] MODEL ANALYSIS**\n",
        "<br />\n",
        "    \n",
        "**1.3.1** - For the defined model:\n",
        "<br />\n",
        "    \n",
        "> - Apply the model to the test dataset. Compute an F1 score for each ```Tag``` and store it. \n",
        "<br />\n",
        "    \n",
        "> - Plot the F1 score per Tag for the defined model using barplots.\n",
        "<br />\n",
        "    \n",
        "> - Briefly discuss the performance of the model\n",
        "    \n",
        "<br />\n",
        "\n",
        "\n",
        "    \n",
        "### **1.4 [5 points] HOMEWORK QUIZ**\n",
        "<br />\n",
        "After attempting this part of the homework, answer the questions on edStem. All the questions depend on this part of the homework and you will not be able to answer them without attempting this part.\n",
        "  \n",
        "<br /><br />\n",
        "    \n",
        "    \n",
        "</div>"
      ]
    },
    {
      "cell_type": "markdown",
      "metadata": {
        "id": "A4mjzQWrB7bG"
      },
      "source": [
        "<div class=\"alert alert-block alert-danger\" style=\"color:black;background-color:#EFF8D0\">\n",
        "    \n",
        "## **PART 1: Solutions**\n",
        "<br />\n",
        "\n",
        "### **1.1 [14 points] PREPROCESS THE DATASET**\n",
        "<br />\n",
        "    \n",
        "**1.1.1** - Read in the dataset `named_entity.csv` into a pandas dataframe using the provided code below.\n",
        "<br /><br />\n",
        "\n",
        "</div>"
      ]
    },
    {
      "cell_type": "code",
      "metadata": {
        "colab": {
          "base_uri": "https://localhost:8080/"
        },
        "id": "rI5HXjv0B7bJ",
        "outputId": "7b0bc0d8-dd89-4e0b-9cfe-af7cf6ec9b35"
      },
      "source": [
        "# If you are using colab, uncomment the following code to access the notebook directly\n",
        "\n",
        "!gdown --id \"1dQFceoih3o3ZP-h3EAJ4Xj8DSgRQ0VTB\""
      ],
      "execution_count": null,
      "outputs": [
        {
          "output_type": "stream",
          "text": [
            "Downloading...\n",
            "From: https://drive.google.com/uc?id=1dQFceoih3o3ZP-h3EAJ4Xj8DSgRQ0VTB\n",
            "To: /content/ner_dataset.csv\n",
            "15.2MB [00:00, 93.0MB/s]\n"
          ],
          "name": "stdout"
        }
      ]
    },
    {
      "cell_type": "code",
      "metadata": {
        "colab": {
          "base_uri": "https://localhost:8080/",
          "height": 520
        },
        "id": "vawyyM3TB7bK",
        "outputId": "425002ac-dcc6-48d8-c0bd-ff7baffbdc03"
      },
      "source": [
        "# Code to read the data\n",
        "data = pd.read_csv('ner_dataset.csv',\n",
        "                   encoding=\"latin1\")\n",
        "data = data.fillna(method=\"ffill\")\n",
        "data.head(15)"
      ],
      "execution_count": null,
      "outputs": [
        {
          "output_type": "execute_result",
          "data": {
            "text/html": [
              "<div>\n",
              "<style scoped>\n",
              "    .dataframe tbody tr th:only-of-type {\n",
              "        vertical-align: middle;\n",
              "    }\n",
              "\n",
              "    .dataframe tbody tr th {\n",
              "        vertical-align: top;\n",
              "    }\n",
              "\n",
              "    .dataframe thead th {\n",
              "        text-align: right;\n",
              "    }\n",
              "</style>\n",
              "<table border=\"1\" class=\"dataframe\">\n",
              "  <thead>\n",
              "    <tr style=\"text-align: right;\">\n",
              "      <th></th>\n",
              "      <th>Sentence #</th>\n",
              "      <th>Word</th>\n",
              "      <th>POS</th>\n",
              "      <th>Tag</th>\n",
              "    </tr>\n",
              "  </thead>\n",
              "  <tbody>\n",
              "    <tr>\n",
              "      <th>0</th>\n",
              "      <td>Sentence: 1</td>\n",
              "      <td>Thousands</td>\n",
              "      <td>NNS</td>\n",
              "      <td>O</td>\n",
              "    </tr>\n",
              "    <tr>\n",
              "      <th>1</th>\n",
              "      <td>Sentence: 1</td>\n",
              "      <td>of</td>\n",
              "      <td>IN</td>\n",
              "      <td>O</td>\n",
              "    </tr>\n",
              "    <tr>\n",
              "      <th>2</th>\n",
              "      <td>Sentence: 1</td>\n",
              "      <td>demonstrators</td>\n",
              "      <td>NNS</td>\n",
              "      <td>O</td>\n",
              "    </tr>\n",
              "    <tr>\n",
              "      <th>3</th>\n",
              "      <td>Sentence: 1</td>\n",
              "      <td>have</td>\n",
              "      <td>VBP</td>\n",
              "      <td>O</td>\n",
              "    </tr>\n",
              "    <tr>\n",
              "      <th>4</th>\n",
              "      <td>Sentence: 1</td>\n",
              "      <td>marched</td>\n",
              "      <td>VBN</td>\n",
              "      <td>O</td>\n",
              "    </tr>\n",
              "    <tr>\n",
              "      <th>5</th>\n",
              "      <td>Sentence: 1</td>\n",
              "      <td>through</td>\n",
              "      <td>IN</td>\n",
              "      <td>O</td>\n",
              "    </tr>\n",
              "    <tr>\n",
              "      <th>6</th>\n",
              "      <td>Sentence: 1</td>\n",
              "      <td>London</td>\n",
              "      <td>NNP</td>\n",
              "      <td>B-geo</td>\n",
              "    </tr>\n",
              "    <tr>\n",
              "      <th>7</th>\n",
              "      <td>Sentence: 1</td>\n",
              "      <td>to</td>\n",
              "      <td>TO</td>\n",
              "      <td>O</td>\n",
              "    </tr>\n",
              "    <tr>\n",
              "      <th>8</th>\n",
              "      <td>Sentence: 1</td>\n",
              "      <td>protest</td>\n",
              "      <td>VB</td>\n",
              "      <td>O</td>\n",
              "    </tr>\n",
              "    <tr>\n",
              "      <th>9</th>\n",
              "      <td>Sentence: 1</td>\n",
              "      <td>the</td>\n",
              "      <td>DT</td>\n",
              "      <td>O</td>\n",
              "    </tr>\n",
              "    <tr>\n",
              "      <th>10</th>\n",
              "      <td>Sentence: 1</td>\n",
              "      <td>war</td>\n",
              "      <td>NN</td>\n",
              "      <td>O</td>\n",
              "    </tr>\n",
              "    <tr>\n",
              "      <th>11</th>\n",
              "      <td>Sentence: 1</td>\n",
              "      <td>in</td>\n",
              "      <td>IN</td>\n",
              "      <td>O</td>\n",
              "    </tr>\n",
              "    <tr>\n",
              "      <th>12</th>\n",
              "      <td>Sentence: 1</td>\n",
              "      <td>Iraq</td>\n",
              "      <td>NNP</td>\n",
              "      <td>B-geo</td>\n",
              "    </tr>\n",
              "    <tr>\n",
              "      <th>13</th>\n",
              "      <td>Sentence: 1</td>\n",
              "      <td>and</td>\n",
              "      <td>CC</td>\n",
              "      <td>O</td>\n",
              "    </tr>\n",
              "    <tr>\n",
              "      <th>14</th>\n",
              "      <td>Sentence: 1</td>\n",
              "      <td>demand</td>\n",
              "      <td>VB</td>\n",
              "      <td>O</td>\n",
              "    </tr>\n",
              "  </tbody>\n",
              "</table>\n",
              "</div>"
            ],
            "text/plain": [
              "     Sentence #           Word  POS    Tag\n",
              "0   Sentence: 1      Thousands  NNS      O\n",
              "1   Sentence: 1             of   IN      O\n",
              "2   Sentence: 1  demonstrators  NNS      O\n",
              "3   Sentence: 1           have  VBP      O\n",
              "4   Sentence: 1        marched  VBN      O\n",
              "5   Sentence: 1        through   IN      O\n",
              "6   Sentence: 1         London  NNP  B-geo\n",
              "7   Sentence: 1             to   TO      O\n",
              "8   Sentence: 1        protest   VB      O\n",
              "9   Sentence: 1            the   DT      O\n",
              "10  Sentence: 1            war   NN      O\n",
              "11  Sentence: 1             in   IN      O\n",
              "12  Sentence: 1           Iraq  NNP  B-geo\n",
              "13  Sentence: 1            and   CC      O\n",
              "14  Sentence: 1         demand   VB      O"
            ]
          },
          "metadata": {
            "tags": []
          },
          "execution_count": 5
        }
      ]
    },
    {
      "cell_type": "markdown",
      "metadata": {
        "id": "7DHytmGEB7bN"
      },
      "source": [
        "<div class=\"alert alert-block alert-danger\" style=\"color:black;background-color:#EFF8D0\">\n",
        "    \n",
        "**1.1.2** - Create a list of unique words found in the 'Word' column and sort it in alphabetic order. Then append the special word \"ENDPAD\" to the end of the list, and assign it to the variable ```words```. Store the length of this list as ```n_words```. **Print your results for `n_words`**.\n",
        "<br />\n",
        "\n",
        "</div>"
      ]
    },
    {
      "cell_type": "code",
      "metadata": {
        "id": "KPEpD1oIB7bO"
      },
      "source": [
        "# Your code here\n",
        "# Count number of words\n",
        "words=sorted(list(set(data.Word.values)))\n",
        "words.append('ENDPAD')\n",
        "n_words=len(words)"
      ],
      "execution_count": null,
      "outputs": []
    },
    {
      "cell_type": "code",
      "metadata": {
        "colab": {
          "base_uri": "https://localhost:8080/"
        },
        "id": "NE9F27R8B7bR",
        "outputId": "575eb2e4-cf69-44af-bd3e-9f9878d0d9f3"
      },
      "source": [
        "# Run this cell to show your results for n_words\n",
        "print(n_words)"
      ],
      "execution_count": null,
      "outputs": [
        {
          "output_type": "stream",
          "text": [
            "35179\n"
          ],
          "name": "stdout"
        }
      ]
    },
    {
      "cell_type": "markdown",
      "metadata": {
        "id": "1DEod1p7B7bS"
      },
      "source": [
        "<div class=\"alert alert-block alert-danger\" style=\"color:black;background-color:#EFF8D0\">\n",
        "\n",
        "\n",
        "**1.1.3** - Create a list of unique tags and sort it in alphabetic order. Then append the special word \"PAD\" to the end of the list, and assign it to the variable ```tags```. Store the length of this list as ```n_tags```. **Print your results for `n_tags`**.\n",
        "<br />\n",
        "\n",
        "</div>"
      ]
    },
    {
      "cell_type": "code",
      "metadata": {
        "id": "POXp0uRZB7bT"
      },
      "source": [
        "# Your code here\n",
        "# Count number of tags\n",
        "tags=list(set(data.Tag.values))\n",
        "tags.append('PAD')\n",
        "n_tags=len(tags)"
      ],
      "execution_count": null,
      "outputs": []
    },
    {
      "cell_type": "code",
      "metadata": {
        "colab": {
          "base_uri": "https://localhost:8080/"
        },
        "id": "mScH44-wB7bV",
        "outputId": "3f4aaa94-a19a-431c-e09e-1c7cfc9ec92b"
      },
      "source": [
        "# Run this cell to show your results for n_tags\n",
        "print(n_tags)"
      ],
      "execution_count": null,
      "outputs": [
        {
          "output_type": "stream",
          "text": [
            "18\n"
          ],
          "name": "stdout"
        }
      ]
    },
    {
      "cell_type": "markdown",
      "metadata": {
        "id": "Oefhs6AzB7bW"
      },
      "source": [
        "<div class=\"alert alert-block alert-danger\" style=\"color:black;background-color:#EFF8D0\">\n",
        "\n",
        "**1.1.4** - Process the data into a list of sentences where each sentence is a list of (word, tag) tuples. Here is an example of how the first sentence in the list should look:\n",
        "\n",
        "[('Thousands', 'O'),\n",
        " ('of',  'O'),\n",
        " ('demonstrators', 'O'),\n",
        " ('have', 'O'),\n",
        " ('marched', 'O'),\n",
        " ('through', 'O'),\n",
        " ('London', 'B-geo'),\n",
        " ('to', 'O'),\n",
        " ('protest', 'O'),\n",
        " ('the', 'O'),\n",
        " ('war', 'O'),\n",
        " ('in', 'O'),\n",
        " ('Iraq', 'B-geo'),\n",
        " ('and', 'O'),\n",
        " ('demand', 'O'),\n",
        " ('the', 'O'),\n",
        " ('withdrawal', 'O'),\n",
        " ('of', 'O'),\n",
        " ('British', 'B-gpe'),\n",
        " ('troops', 'O'),\n",
        " ('from', 'O'),\n",
        " ('that', 'O'),\n",
        " ('country', 'O'),\n",
        " ('.', 'O')]\n",
        " \n",
        "<br />\n",
        "    \n",
        "</div>"
      ]
    },
    {
      "cell_type": "code",
      "metadata": {
        "id": "00CHwFzCXr8-"
      },
      "source": [
        "from tqdm.notebook import tqdm"
      ],
      "execution_count": null,
      "outputs": []
    },
    {
      "cell_type": "code",
      "metadata": {
        "colab": {
          "base_uri": "https://localhost:8080/",
          "height": 67,
          "referenced_widgets": [
            "8334755c6a3542df910713640ffac6d3",
            "a841c1486a304b61bf73edbc5f0f17e1",
            "cb07ce19d45e4f06a5658564a7a6564e",
            "f3eb8d46a8b0443690da5bc1ec44a7be",
            "9ad4867efd30423daed0aa8ff6ab5316",
            "efe3cf2876cb47e79488fea123ea888c",
            "36e6f0150ebc497d982c7961d10d9522",
            "24f59020964f40368c24dad0e57a685f"
          ]
        },
        "id": "LLHqc6L8B7bX",
        "outputId": "3889d518-a2e3-41d0-ed4e-8bb109e3d918"
      },
      "source": [
        "# Your code here\n",
        "# Get maximum sentence length as padding size\n",
        "list_of_sentence=[list(zip(data[data['Sentence #']==i]['Word'],data[data['Sentence #']==i]['Tag'])) for i in tqdm(data['Sentence #'].unique())]"
      ],
      "execution_count": null,
      "outputs": [
        {
          "output_type": "display_data",
          "data": {
            "application/vnd.jupyter.widget-view+json": {
              "model_id": "8334755c6a3542df910713640ffac6d3",
              "version_minor": 0,
              "version_major": 2
            },
            "text/plain": [
              "HBox(children=(FloatProgress(value=0.0, max=47959.0), HTML(value='')))"
            ]
          },
          "metadata": {
            "tags": []
          }
        },
        {
          "output_type": "stream",
          "text": [
            "\n"
          ],
          "name": "stdout"
        }
      ]
    },
    {
      "cell_type": "code",
      "metadata": {
        "id": "1UXwPgt6qMN6"
      },
      "source": [
        "import pickle\n",
        "file_name='/content/drive/MyDrive/Colab Notebooks/UNIV-AI-AI3/list_of_sentence.pkl'"
      ],
      "execution_count": null,
      "outputs": []
    },
    {
      "cell_type": "code",
      "metadata": {
        "id": "CG9lKovHpJin"
      },
      "source": [
        "open_file = open(file_name, \"wb\")\n",
        "pickle.dump(list_of_sentence, open_file)\n",
        "open_file.close()"
      ],
      "execution_count": null,
      "outputs": []
    },
    {
      "cell_type": "code",
      "metadata": {
        "id": "wEIEEeN9pnYL"
      },
      "source": [
        "open_file = open(file_name, \"rb\")\n",
        "list_of_sentence = pickle.load(open_file)\n",
        "open_file.close()"
      ],
      "execution_count": null,
      "outputs": []
    },
    {
      "cell_type": "markdown",
      "metadata": {
        "id": "DG06o9x7B7bX"
      },
      "source": [
        "<div class=\"alert alert-block alert-danger\" style=\"color:black;background-color:#EFF8D0\">\n",
        "\n",
        "**1.1.5** - Find out the number of words in the longest sentence, and store it to variable ```max_len```. **Print your results for `max_len`.**\n",
        "<br />   \n",
        "    \n",
        "</div>"
      ]
    },
    {
      "cell_type": "code",
      "metadata": {
        "id": "_pCId1xmB7bY"
      },
      "source": [
        "# Your code here\n",
        "# Get the number of words in the longest sentence\n",
        "max_size=max(list_of_sentence,key=len)\n",
        "max_len=len(max_size)"
      ],
      "execution_count": null,
      "outputs": []
    },
    {
      "cell_type": "code",
      "metadata": {
        "id": "-ku5rF7bB7bZ",
        "colab": {
          "base_uri": "https://localhost:8080/"
        },
        "outputId": "241b6c85-79e0-4935-8d67-bdc26e48c9d7"
      },
      "source": [
        "# Run this cell to show your results for max_len\n",
        "print(max_len)"
      ],
      "execution_count": null,
      "outputs": [
        {
          "output_type": "stream",
          "text": [
            "104\n"
          ],
          "name": "stdout"
        }
      ]
    },
    {
      "cell_type": "markdown",
      "metadata": {
        "id": "IPMDFD2YB7ba"
      },
      "source": [
        "<div class=\"alert alert-block alert-danger\" style=\"color:black;background-color:#EFF8D0\">\n",
        "\n",
        "**1.1.6** - It's now time to convert the sentences data in a suitable format for the RNNs training/evaluation procedures. Create a ```word2idx``` dictionary mapping distinct words from the dataset into distinct integers. Also create a ```idx2word``` dictionary.\n",
        "<br />  \n",
        "    \n",
        "</div>"
      ]
    },
    {
      "cell_type": "code",
      "metadata": {
        "id": "QKb-KF07B7bb"
      },
      "source": [
        "# Your code here\n",
        "# Create dictionary to map words to integers\n",
        "word2idx= {w:i for i,w in enumerate(words)}\n",
        "idx2word= {i:w for i,w in enumerate(words)}"
      ],
      "execution_count": null,
      "outputs": []
    },
    {
      "cell_type": "markdown",
      "metadata": {
        "id": "ipP85JtxB7bb"
      },
      "source": [
        "<div class=\"alert alert-block alert-danger\" style=\"color:black;background-color:#EFF8D0\">\n",
        "\n",
        "**1.1.7** - Prepare the predictors matrix ```X```, as a list of lists, where each inner list is a sequence of words mapped into integers accordly to the ```word2idx``` dictionary. \n",
        "<br />\n",
        "    \n",
        "</div>"
      ]
    },
    {
      "cell_type": "code",
      "metadata": {
        "id": "T_o6UQMnB7bb"
      },
      "source": [
        "# Your code here\n",
        "# Prepare predictors list of lists\n",
        "X=[[word2idx[j[0]] for j in i] for i in list_of_sentence]"
      ],
      "execution_count": null,
      "outputs": []
    },
    {
      "cell_type": "markdown",
      "metadata": {
        "id": "uqonwpyTB7bc"
      },
      "source": [
        "<div class=\"alert alert-block alert-danger\" style=\"color:black;background-color:#EFF8D0\">\n",
        "\n",
        "**1.1.8** - Apply the keras ```pad_sequences``` function to standardize the predictors. You should retrieve a matrix with all padded sentences and length equal to ```max_len``` previously computed. The dimensionality should therefore be equal to ```[# of sentences, max_len]```. Run the provided cell to print your results. Your ```X[i]``` now should be something similar to this:\n",
        "<br />\n",
        "    \n",
        "`[ 8193 27727 31033 33289 22577 33464 23723 16665 33464 31142 31319 28267\n",
        " 27700 33246 28646 16052    21 16915 17349  7924 32879 32985 18238 23555\n",
        "    24 35178 35178 35178 35178 35178 35178 35178 35178 35178 35178 35178\n",
        " 35178 35178 35178 35178 35178 35178 35178 35178 35178 35178 35178 35178\n",
        " 35178 35178 35178 35178 35178 35178 35178 35178 35178 35178 35178 35178\n",
        " 35178 35178 35178 35178 35178 35178 35178 35178 35178 35178 35178 35178\n",
        " 35178 35178 35178 35178 35178 35178 35178 35178 35178 35178 35178 35178\n",
        " 35178 35178 35178 35178 35178 35178 35178 35178 35178 35178 35178 35178\n",
        " 35178 35178 35178 35178 35178 35178 35178 35178]`\n",
        "<br />\n",
        "\n",
        "</div>"
      ]
    },
    {
      "cell_type": "code",
      "metadata": {
        "id": "s8QJ39E7B7bd"
      },
      "source": [
        "# Your code here\n",
        "# Apply the keras pad_sequences function\n",
        "X=pad_sequences(X, maxlen=max_len,padding='post',value=word2idx['ENDPAD'])"
      ],
      "execution_count": null,
      "outputs": []
    },
    {
      "cell_type": "code",
      "metadata": {
        "id": "IY9PLSU9B7bg",
        "colab": {
          "base_uri": "https://localhost:8080/"
        },
        "outputId": "386d8f05-6eb3-452f-f1eb-fa9048b790cb"
      },
      "source": [
        "# Run this cell to show your results #\n",
        "print(\"Sentence 1: {}\\n\".format(X[1]))\n",
        "print(X.shape)"
      ],
      "execution_count": null,
      "outputs": [
        {
          "output_type": "stream",
          "text": [
            "Sentence 1: [ 6283 27700 31967 25619 24853 33246 19981 25517 33246 29399 34878 19044\n",
            " 18095 34971 32712 31830 17742     1  4114 11464 11631 14985     1 17364\n",
            "     1 14484 33246  3881    24     1 35178 35178 35178 35178 35178 35178\n",
            " 35178 35178 35178 35178 35178 35178 35178 35178 35178 35178 35178 35178\n",
            " 35178 35178 35178 35178 35178 35178 35178 35178 35178 35178 35178 35178\n",
            " 35178 35178 35178 35178 35178 35178 35178 35178 35178 35178 35178 35178\n",
            " 35178 35178 35178 35178 35178 35178 35178 35178 35178 35178 35178 35178\n",
            " 35178 35178 35178 35178 35178 35178 35178 35178 35178 35178 35178 35178\n",
            " 35178 35178 35178 35178 35178 35178 35178 35178]\n",
            "\n",
            "(47959, 104)\n"
          ],
          "name": "stdout"
        }
      ]
    },
    {
      "cell_type": "markdown",
      "metadata": {
        "id": "ZZgD4SqqB7bi"
      },
      "source": [
        "<div class=\"alert alert-block alert-danger\" style=\"color:black;background-color:#EFF8D0\">\n",
        "\n",
        "**1.1.9** - Create a ```tag2idx``` dictionary mapping distinct named entity tags from the dataset into distinct integers. Also create a ```idx2tag``` dictionary.\n",
        "<br />\n",
        "    \n",
        "</div>"
      ]
    },
    {
      "cell_type": "code",
      "metadata": {
        "id": "oAltSFPAB7bj"
      },
      "source": [
        "# Your code here\n",
        "# Create dictionary to map tags to integers\n",
        "tag2idx= {t:i for i,t in enumerate(tags)}\n",
        "idx2tag= {i:t for i,t in enumerate(tags)}"
      ],
      "execution_count": null,
      "outputs": []
    },
    {
      "cell_type": "markdown",
      "metadata": {
        "id": "Q1dC2H97B7bk"
      },
      "source": [
        "<div class=\"alert alert-block alert-danger\" style=\"color:black;background-color:#EFF8D0\">\n",
        "\n",
        "**1.1.10** - Prepare targets matrix ```Y```, as a list of lists,where each inner list is a sequence of tags mapped into integers accordly to the ```tag2idx``` dictionary.\n",
        "<br />\n",
        "    \n",
        "</div>"
      ]
    },
    {
      "cell_type": "code",
      "metadata": {
        "id": "x0sLLQk9B7bk"
      },
      "source": [
        "# Your code here\n",
        "# Prepare targets list of lists\n",
        "Y=[[tag2idx[j[1]] for j in i] for i in list_of_sentence]"
      ],
      "execution_count": null,
      "outputs": []
    },
    {
      "cell_type": "markdown",
      "metadata": {
        "id": "tOZuea1tB7bl"
      },
      "source": [
        "<div class=\"alert alert-block alert-danger\" style=\"color:black;background-color:#EFF8D0\">\n",
        "\n",
        "**1.1.11** - Apply the keras ```pad_sequences``` function to standardize the targets. Inject the ```PAD``` tag for the padding words. You should retrieve a matrix with all padded sentences'tags and length equal to ```max_length``` previously computed. \n",
        "<br />\n",
        "    \n",
        "</div>"
      ]
    },
    {
      "cell_type": "code",
      "metadata": {
        "id": "DOMYARwCB7bm"
      },
      "source": [
        "# Your code here\n",
        "# Apply the kera pas_sequences function\n",
        "Y=pad_sequences(Y, maxlen=max_len,padding='post',value=tag2idx['PAD'])"
      ],
      "execution_count": null,
      "outputs": []
    },
    {
      "cell_type": "markdown",
      "metadata": {
        "id": "nNMKZ49cB7bn"
      },
      "source": [
        "<div class=\"alert alert-block alert-danger\" style=\"color:black;background-color:#EFF8D0\">\n",
        "\n",
        "**1.1.12** - Use the ```to_categorical``` keras function to one-hot encode the tags. Now your ```Y``` should have dimension ```[# of sentences, max_len, n_tags]```. Run the provided cell to print your results.\n",
        "<br />\n",
        "    \n",
        "</div>"
      ]
    },
    {
      "cell_type": "code",
      "metadata": {
        "id": "HnDyFXCQB7bo"
      },
      "source": [
        "# Your code here\n",
        "# Onehot encode target variable\n",
        "Y=to_categorical(Y)"
      ],
      "execution_count": null,
      "outputs": []
    },
    {
      "cell_type": "code",
      "metadata": {
        "id": "h89l9Np2B7bp",
        "colab": {
          "base_uri": "https://localhost:8080/"
        },
        "outputId": "d82b3c30-472d-4aa4-b961-e9ae528cfbb5"
      },
      "source": [
        "# Run this cell to show your results #\n",
        "print(\"The index of tag 'B-gpe' is: {}\\n\".format(tag2idx[\"B-gpe\"]))\n",
        "print(\"The tag of the last word in Sentence 1: {}\\n\".format(Y[0][-1]))\n",
        "print(np.array(Y).shape)"
      ],
      "execution_count": null,
      "outputs": [
        {
          "output_type": "stream",
          "text": [
            "The index of tag 'B-gpe' is: 15\n",
            "\n",
            "The tag of the last word in Sentence 1: [0. 0. 0. 0. 0. 0. 0. 0. 0. 0. 0. 0. 0. 0. 0. 0. 0. 1.]\n",
            "\n",
            "(47959, 104, 18)\n"
          ],
          "name": "stdout"
        }
      ]
    },
    {
      "cell_type": "markdown",
      "metadata": {
        "id": "hH7ZF0d2B7bp"
      },
      "source": [
        "<div class=\"alert alert-block alert-danger\" style=\"color:black;background-color:#EFF8D0\">\n",
        "    \n",
        "**1.1.13** - Split the dataset into train and test sets (test 10%).\n",
        "<br />\n",
        "    \n",
        "</div>"
      ]
    },
    {
      "cell_type": "code",
      "metadata": {
        "id": "DkfkgBcPB7bq"
      },
      "source": [
        "# Your code here\n",
        "# Split train/test datasets\n",
        "X_train,X_test,y_train,y_test = train_test_split(X,Y,test_size=0.1,random_state=42)"
      ],
      "execution_count": null,
      "outputs": []
    },
    {
      "cell_type": "markdown",
      "metadata": {
        "id": "Vh0cW-AIB7br"
      },
      "source": [
        "<div class=\"alert alert-block alert-danger\" style=\"color:black;background-color:#EFF8D0\">\n",
        "\n",
        "### **1.2 [10 points] MODELLING THE DATA**\n",
        "      \n",
        "After preparing the train and test sets, you need to build the following model:\n",
        "    \n",
        "> - Bidirectional Gated Recurrent Neural Network with input/ouput dimensionalities as \n",
        "    * input: [# of sentences, max_len]\n",
        "    * output: [# of sentences, max_len, n_tags]\n",
        "    * Follow the information in each model's section to set up the architecture of each model.\n",
        "\n",
        "A further plot_training_history helper function is given in case you need to check the training history.\n",
        "<br /><br />  \n",
        "    \n",
        "**1.2.1** - BIDIRECTIONAL GATED RECURRENT NEURAL NETWORK\n",
        "<br />\n",
        "    \n",
        "> **1.2.1.1** - Explain how a Bidirectional GRU differs from the RNNs and LSTMs.\n",
        "<br />\n",
        "    \n",
        "    \n",
        "</div>\n"
      ]
    },
    {
      "cell_type": "markdown",
      "metadata": {
        "id": "L2qiYPoHB7bs"
      },
      "source": [
        "**Your answer here**"
      ]
    },
    {
      "cell_type": "markdown",
      "metadata": {
        "id": "Tt1_J8GrB7bt"
      },
      "source": [
        "### Use these hyperparameters for the NN models"
      ]
    },
    {
      "cell_type": "code",
      "metadata": {
        "id": "POdE7XPaB7bt"
      },
      "source": [
        "n_units = 100\n",
        "drop_rate = .1\n",
        "dim_embed = 50\n",
        "\n",
        "optimizer = \"rmsprop\"\n",
        "loss = \"categorical_crossentropy\"\n",
        "metrics = [\"accuracy\"]\n",
        "\n",
        "batch_size = 32\n",
        "epochs = 10\n",
        "validation_split = 0.1\n",
        "verbose = 1"
      ],
      "execution_count": null,
      "outputs": []
    },
    {
      "cell_type": "markdown",
      "metadata": {
        "id": "ILPdGKSwB7bt"
      },
      "source": [
        "<div class=\"alert alert-block alert-danger\" style=\"color:black;background-color:#EFF8D0\">\n",
        "\n",
        "> **1.2.1.2** - Define, compile, and train a bidirectional GRU by wrapping your GRU layer in a Bidirectional one. Use the provided code to plot the training history.\n",
        "<br />\n",
        "\n",
        "</div>"
      ]
    },
    {
      "cell_type": "code",
      "metadata": {
        "id": "SrJ8AmApB7bt"
      },
      "source": [
        "# Your code here\n",
        "# Define model\n",
        "model=Sequential()\n",
        "model.add(Embedding(input_dim=n_words,output_dim=dim_embed))\n",
        "model.add(tf.keras.layers.Masking(mask_value=word2idx['ENDPAD']))\n",
        "model.add(Bidirectional(GRU(n_units,return_sequences=True,dropout=drop_rate),merge_mode='concat'))\n",
        "model.add(Dense(64,activation='relu'))\n",
        "model.add(Dropout(drop_rate))\n",
        "model.add(Dense(n_tags, activation='softmax'))\n",
        "model.compile(optimizer=optimizer,loss=loss,metrics=metrics)"
      ],
      "execution_count": null,
      "outputs": []
    },
    {
      "cell_type": "code",
      "metadata": {
        "id": "45zgIalaB7bu",
        "colab": {
          "base_uri": "https://localhost:8080/"
        },
        "outputId": "18270bf7-abd0-4987-d83b-3e2b496c0d0a"
      },
      "source": [
        "# Run this cell to show your results #\n",
        "print(model.summary())"
      ],
      "execution_count": null,
      "outputs": [
        {
          "output_type": "stream",
          "text": [
            "Model: \"sequential_1\"\n",
            "_________________________________________________________________\n",
            "Layer (type)                 Output Shape              Param #   \n",
            "=================================================================\n",
            "embedding_1 (Embedding)      (None, None, 50)          1758950   \n",
            "_________________________________________________________________\n",
            "masking_1 (Masking)          (None, None, 50)          0         \n",
            "_________________________________________________________________\n",
            "bidirectional_1 (Bidirection (None, None, 200)         91200     \n",
            "_________________________________________________________________\n",
            "dense_2 (Dense)              (None, None, 64)          12864     \n",
            "_________________________________________________________________\n",
            "dropout_1 (Dropout)          (None, None, 64)          0         \n",
            "_________________________________________________________________\n",
            "dense_3 (Dense)              (None, None, 18)          1170      \n",
            "=================================================================\n",
            "Total params: 1,864,184\n",
            "Trainable params: 1,864,184\n",
            "Non-trainable params: 0\n",
            "_________________________________________________________________\n",
            "None\n"
          ],
          "name": "stdout"
        }
      ]
    },
    {
      "cell_type": "code",
      "metadata": {
        "colab": {
          "base_uri": "https://localhost:8080/"
        },
        "id": "lVve_Do1lHM_",
        "outputId": "c09c397e-3c44-4750-b0b7-ee6232f6f33c"
      },
      "source": [
        "history=model.fit(X_train,y_train, epochs=epochs,batch_size=batch_size,verbose=verbose,validation_split=validation_split)"
      ],
      "execution_count": null,
      "outputs": [
        {
          "output_type": "stream",
          "text": [
            "Epoch 1/10\n",
            "1214/1214 [==============================] - 69s 26ms/step - loss: 0.1983 - accuracy: 0.9562 - val_loss: 0.0269 - val_accuracy: 0.9921\n",
            "Epoch 2/10\n",
            "1214/1214 [==============================] - 28s 23ms/step - loss: 0.0251 - accuracy: 0.9927 - val_loss: 0.0235 - val_accuracy: 0.9929\n",
            "Epoch 3/10\n",
            "1214/1214 [==============================] - 29s 24ms/step - loss: 0.0214 - accuracy: 0.9938 - val_loss: 0.0229 - val_accuracy: 0.9931\n",
            "Epoch 4/10\n",
            "1214/1214 [==============================] - 29s 23ms/step - loss: 0.0191 - accuracy: 0.9944 - val_loss: 0.0220 - val_accuracy: 0.9933\n",
            "Epoch 5/10\n",
            "1214/1214 [==============================] - 28s 23ms/step - loss: 0.0181 - accuracy: 0.9947 - val_loss: 0.0215 - val_accuracy: 0.9934\n",
            "Epoch 6/10\n",
            "1214/1214 [==============================] - 29s 24ms/step - loss: 0.0173 - accuracy: 0.9950 - val_loss: 0.0216 - val_accuracy: 0.9934\n",
            "Epoch 7/10\n",
            "1214/1214 [==============================] - 29s 23ms/step - loss: 0.0159 - accuracy: 0.9953 - val_loss: 0.0214 - val_accuracy: 0.9935\n",
            "Epoch 8/10\n",
            "1214/1214 [==============================] - 28s 23ms/step - loss: 0.0155 - accuracy: 0.9954 - val_loss: 0.0223 - val_accuracy: 0.9934\n",
            "Epoch 9/10\n",
            "1214/1214 [==============================] - 29s 24ms/step - loss: 0.0143 - accuracy: 0.9958 - val_loss: 0.0221 - val_accuracy: 0.9935\n",
            "Epoch 10/10\n",
            "1214/1214 [==============================] - 29s 24ms/step - loss: 0.0138 - accuracy: 0.9959 - val_loss: 0.0223 - val_accuracy: 0.9935\n"
          ],
          "name": "stdout"
        }
      ]
    },
    {
      "cell_type": "code",
      "metadata": {
        "id": "3DoWVo3MB7bw"
      },
      "source": [
        "# Helper code to plot history\n",
        "def plot_training_history(history):\n",
        "    loss = history.history['loss']\n",
        "    val_loss = history.history['val_loss']\n",
        "    epochs = range(1,len(loss)+1)\n",
        "\n",
        "    plt.figure()\n",
        "    plt.plot(epochs, loss, 'bo', label='Training loss')\n",
        "    plt.plot(epochs, val_loss, 'b', label='Validation loss')\n",
        "    plt.title('Training and validation loss')\n",
        "    plt.xlabel('epoch')\n",
        "    plt.legend()\n",
        "    plt.show()"
      ],
      "execution_count": null,
      "outputs": []
    },
    {
      "cell_type": "code",
      "metadata": {
        "id": "yMVdptwgB7by",
        "colab": {
          "base_uri": "https://localhost:8080/",
          "height": 299
        },
        "outputId": "a97f53ea-bf37-4716-d63f-3f3bf9c76831"
      },
      "source": [
        "# Run this cell to show your results #\n",
        "plot_training_history(history)"
      ],
      "execution_count": null,
      "outputs": [
        {
          "output_type": "display_data",
          "data": {
            "image/png": "[encoded data removed]",
            "text/plain": [
              "<Figure size 432x288 with 1 Axes>"
            ]
          },
          "metadata": {
            "tags": []
          }
        }
      ]
    },
    {
      "cell_type": "markdown",
      "metadata": {
        "id": "u8BF9-l_B7bz"
      },
      "source": [
        "<div class=\"alert alert-block alert-danger\" style=\"color:black;background-color:#EFF8D0\">\n",
        "    \n",
        "> **1.2.1.3** - Visualize outputs from bidirectional GRU layer, one subplot for B-tags and one subplot for I-tags. Comment on the patterns you observed.\n",
        "<br />\n",
        "\n",
        "</div>"
      ]
    },
    {
      "cell_type": "markdown",
      "metadata": {
        "id": "Q6DmZe1rB7b0"
      },
      "source": [
        "### Helper function to visualize the outputs ###\n"
      ]
    },
    {
      "cell_type": "code",
      "metadata": {
        "id": "SXdalbttB7b1"
      },
      "source": [
        "def get_hidden_output_PCA(model,X_te,y_te,layer_index,out_dimension):\n",
        "    output = tf.keras.backend.function([model.layers[0].input],[model.layers[layer_index].output])\n",
        "    hidden_feature=np.array(output([X_te]))\n",
        "    print(hidden_feature.shape)\n",
        "    hidden_feature=hidden_feature.reshape(-1,out_dimension)\n",
        "    print(hidden_feature.shape)\n",
        "    pca = PCA(n_components=2)\n",
        "    pca_result = pca.fit_transform(hidden_feature)\n",
        "    print('Variance explained by PCA: {}'.format(np.sum(pca.explained_variance_ratio_)))\n",
        "    return pca_result"
      ],
      "execution_count": null,
      "outputs": []
    },
    {
      "cell_type": "code",
      "metadata": {
        "id": "lPl7AXPJB7b2"
      },
      "source": [
        "def visualize_B_I(pca_result):\n",
        "    color = ['r', 'C1', 'y', 'C3', 'b', 'g', 'm', 'orange']\n",
        "    category = np.argmax(y_test.reshape(-1,18), axis=1)\n",
        "    fig, ax = plt.subplots(1,2) \n",
        "    fig.set_size_inches(12,6)\n",
        "    for i in range(2):\n",
        "        for cat in range(8*i,8*(i+1)):\n",
        "            indices = np.where(category==cat)[0]\n",
        "            ax[i].scatter(pca_result[indices,0], pca_result[indices, 1], label=idx2tag[cat],s=2,color=color[cat-8*i],alpha=0.5)\n",
        "        legend = ax[i].legend(markerscale=3)\n",
        "        legend.get_frame().set_facecolor('w') \n",
        "        ax[i].set_xlabel(\"first dimension\")\n",
        "        ax[i].set_ylabel(\"second dimension\")\n",
        "    fig.suptitle(\"visualization of hidden feature on reduced dimension by PCA\")\n",
        "    \n",
        "    plt.show()"
      ],
      "execution_count": null,
      "outputs": []
    },
    {
      "cell_type": "code",
      "metadata": {
        "id": "z8N1VMRbB7b3",
        "colab": {
          "base_uri": "https://localhost:8080/",
          "height": 489
        },
        "outputId": "8a81337a-4241-4dab-b844-84734906c16c"
      },
      "source": [
        "# Your code here\n",
        "# Visualization of hidden features\n",
        "pca_result=get_hidden_output_PCA(model,X_test,y_test,2,out_dimension=y_test.shape[1])\n",
        "visualize_B_I(pca_result)"
      ],
      "execution_count": null,
      "outputs": [
        {
          "output_type": "stream",
          "text": [
            "(1, 4796, 104, 200)\n",
            "(959200, 104)\n",
            "Variance explained by PCA: 0.16999077688409026\n"
          ],
          "name": "stdout"
        },
        {
          "output_type": "display_data",
          "data": {
            "image/png": "[encoded data removed]",
            "text/plain": [
              "<Figure size 864x432 with 2 Axes>"
            ]
          },
          "metadata": {
            "tags": []
          }
        }
      ]
    },
    {
      "cell_type": "markdown",
      "metadata": {
        "id": "fgBCiPFxB7b3"
      },
      "source": [
        "**Your answer here**"
      ]
    },
    {
      "cell_type": "markdown",
      "metadata": {
        "id": "pagi9-NxB7b4"
      },
      "source": [
        "<div class=\"alert alert-block alert-danger\" style=\"color:black;background-color:#EFF8D0\">\n",
        "\n",
        "\n",
        "    \n",
        "### **1.3 [6 points] MODEL ANALYSIS**\n",
        "<br />\n",
        "    \n",
        "**1.3.1** - For the defined model:\n",
        "<br />\n",
        "    \n",
        "> - Apply the model to the test dataset. Compute an F1 score for each ```Tag``` and store it. \n",
        "<br />\n",
        "    \n",
        "> - Plot the F1 score per Tag for the defined model using barplots.\n",
        "<br />\n",
        "    \n",
        "> - Briefly discuss the performance of the model\n",
        "<br />\n",
        "\n",
        "\n",
        "</div>"
      ]
    },
    {
      "cell_type": "code",
      "metadata": {
        "id": "CPrHjt5TB7b4",
        "colab": {
          "base_uri": "https://localhost:8080/"
        },
        "outputId": "95a9c1e9-8419-44da-cb00-75bfafe8211f"
      },
      "source": [
        "# Your code here\n",
        "# Apply the model to the test dataset\n",
        "model.evaluate(X_test,y_test)"
      ],
      "execution_count": null,
      "outputs": [
        {
          "output_type": "stream",
          "text": [
            "150/150 [==============================] - 2s 10ms/step - loss: 0.0235 - accuracy: 0.9934\n"
          ],
          "name": "stdout"
        },
        {
          "output_type": "execute_result",
          "data": {
            "text/plain": [
              "[0.02345607802271843, 0.9934460520744324]"
            ]
          },
          "metadata": {
            "tags": []
          },
          "execution_count": 38
        }
      ]
    },
    {
      "cell_type": "code",
      "metadata": {
        "id": "l5YlmTQx93yy"
      },
      "source": [
        "def predict(inp,out, model):\n",
        "  sentence=[idx2word[i] for i in inp]\n",
        "  tag=[idx2tag[np.argmax(i)] for i in out]\n",
        "  print(list(zip(sentence,tag)))\n",
        "  prediction=model.predict(inp)\n",
        "  predict_tag=[idx2tag[np.argmax(i)] for i in prediction]\n",
        "  print(list(zip(sentence,predict_tag)))\n",
        "  return None"
      ],
      "execution_count": null,
      "outputs": []
    },
    {
      "cell_type": "code",
      "metadata": {
        "colab": {
          "base_uri": "https://localhost:8080/"
        },
        "id": "xvho61xk-Kgm",
        "outputId": "60da003f-bc76-4f12-c04e-3c0450255d4f"
      },
      "source": [
        "for i in range(10):\n",
        "  predict(X_test[i],y_test[i],model)"
      ],
      "execution_count": null,
      "outputs": [
        {
          "output_type": "stream",
          "text": [
            "[('In', 'O'), ('Tehran', 'B-tim'), (',', 'O'), ('the', 'O'), ('chief', 'O'), ('of', 'O'), ('Iran', 'B-geo'), (\"'s\", 'O'), ('Revolutionary', 'B-geo'), ('Guards', 'I-geo'), (',', 'O'), ('General', 'B-org'), ('Yahya', 'I-org'), ('Rahim', 'I-org'), ('Safavi', 'I-org'), (',', 'O'), ('said', 'O'), ('Saturday', 'B-tim'), ('his', 'O'), ('country', 'O'), ('would', 'O'), ('use', 'O'), ('ballistic', 'O'), ('missiles', 'O'), ('to', 'O'), ('defend', 'O'), ('itself', 'O'), ('if', 'O'), ('attacked', 'O'), ('.', 'O'), ('ENDPAD', 'PAD'), ('ENDPAD', 'PAD'), ('ENDPAD', 'PAD'), ('ENDPAD', 'PAD'), ('ENDPAD', 'PAD'), ('ENDPAD', 'PAD'), ('ENDPAD', 'PAD'), ('ENDPAD', 'PAD'), ('ENDPAD', 'PAD'), ('ENDPAD', 'PAD'), ('ENDPAD', 'PAD'), ('ENDPAD', 'PAD'), ('ENDPAD', 'PAD'), ('ENDPAD', 'PAD'), ('ENDPAD', 'PAD'), ('ENDPAD', 'PAD'), ('ENDPAD', 'PAD'), ('ENDPAD', 'PAD'), ('ENDPAD', 'PAD'), ('ENDPAD', 'PAD'), ('ENDPAD', 'PAD'), ('ENDPAD', 'PAD'), ('ENDPAD', 'PAD'), ('ENDPAD', 'PAD'), ('ENDPAD', 'PAD'), ('ENDPAD', 'PAD'), ('ENDPAD', 'PAD'), ('ENDPAD', 'PAD'), ('ENDPAD', 'PAD'), ('ENDPAD', 'PAD'), ('ENDPAD', 'PAD'), ('ENDPAD', 'PAD'), ('ENDPAD', 'PAD'), ('ENDPAD', 'PAD'), ('ENDPAD', 'PAD'), ('ENDPAD', 'PAD'), ('ENDPAD', 'PAD'), ('ENDPAD', 'PAD'), ('ENDPAD', 'PAD'), ('ENDPAD', 'PAD'), ('ENDPAD', 'PAD'), ('ENDPAD', 'PAD'), ('ENDPAD', 'PAD'), ('ENDPAD', 'PAD'), ('ENDPAD', 'PAD'), ('ENDPAD', 'PAD'), ('ENDPAD', 'PAD'), ('ENDPAD', 'PAD'), ('ENDPAD', 'PAD'), ('ENDPAD', 'PAD'), ('ENDPAD', 'PAD'), ('ENDPAD', 'PAD'), ('ENDPAD', 'PAD'), ('ENDPAD', 'PAD'), ('ENDPAD', 'PAD'), ('ENDPAD', 'PAD'), ('ENDPAD', 'PAD'), ('ENDPAD', 'PAD'), ('ENDPAD', 'PAD'), ('ENDPAD', 'PAD'), ('ENDPAD', 'PAD'), ('ENDPAD', 'PAD'), ('ENDPAD', 'PAD'), ('ENDPAD', 'PAD'), ('ENDPAD', 'PAD'), ('ENDPAD', 'PAD'), ('ENDPAD', 'PAD'), ('ENDPAD', 'PAD'), ('ENDPAD', 'PAD'), ('ENDPAD', 'PAD'), ('ENDPAD', 'PAD'), ('ENDPAD', 'PAD'), ('ENDPAD', 'PAD'), ('ENDPAD', 'PAD')]\n",
            "[('In', 'O'), ('Tehran', 'B-org'), (',', 'O'), ('the', 'O'), ('chief', 'O'), ('of', 'O'), ('Iran', 'B-geo'), (\"'s\", 'O'), ('Revolutionary', 'B-org'), ('Guards', 'B-org'), (',', 'O'), ('General', 'B-per'), ('Yahya', 'B-org'), ('Rahim', 'B-per'), ('Safavi', 'B-art'), (',', 'O'), ('said', 'O'), ('Saturday', 'B-tim'), ('his', 'O'), ('country', 'O'), ('would', 'O'), ('use', 'O'), ('ballistic', 'O'), ('missiles', 'O'), ('to', 'O'), ('defend', 'O'), ('itself', 'O'), ('if', 'O'), ('attacked', 'O'), ('.', 'O'), ('ENDPAD', 'PAD'), ('ENDPAD', 'PAD'), ('ENDPAD', 'PAD'), ('ENDPAD', 'PAD'), ('ENDPAD', 'PAD'), ('ENDPAD', 'PAD'), ('ENDPAD', 'PAD'), ('ENDPAD', 'PAD'), ('ENDPAD', 'PAD'), ('ENDPAD', 'PAD'), ('ENDPAD', 'PAD'), ('ENDPAD', 'PAD'), ('ENDPAD', 'PAD'), ('ENDPAD', 'PAD'), ('ENDPAD', 'PAD'), ('ENDPAD', 'PAD'), ('ENDPAD', 'PAD'), ('ENDPAD', 'PAD'), ('ENDPAD', 'PAD'), ('ENDPAD', 'PAD'), ('ENDPAD', 'PAD'), ('ENDPAD', 'PAD'), ('ENDPAD', 'PAD'), ('ENDPAD', 'PAD'), ('ENDPAD', 'PAD'), ('ENDPAD', 'PAD'), ('ENDPAD', 'PAD'), ('ENDPAD', 'PAD'), ('ENDPAD', 'PAD'), ('ENDPAD', 'PAD'), ('ENDPAD', 'PAD'), ('ENDPAD', 'PAD'), ('ENDPAD', 'PAD'), ('ENDPAD', 'PAD'), ('ENDPAD', 'PAD'), ('ENDPAD', 'PAD'), ('ENDPAD', 'PAD'), ('ENDPAD', 'PAD'), ('ENDPAD', 'PAD'), ('ENDPAD', 'PAD'), ('ENDPAD', 'PAD'), ('ENDPAD', 'PAD'), ('ENDPAD', 'PAD'), ('ENDPAD', 'PAD'), ('ENDPAD', 'PAD'), ('ENDPAD', 'PAD'), ('ENDPAD', 'PAD'), ('ENDPAD', 'PAD'), ('ENDPAD', 'PAD'), ('ENDPAD', 'PAD'), ('ENDPAD', 'PAD'), ('ENDPAD', 'PAD'), ('ENDPAD', 'PAD'), ('ENDPAD', 'PAD'), ('ENDPAD', 'PAD'), ('ENDPAD', 'PAD'), ('ENDPAD', 'PAD'), ('ENDPAD', 'PAD'), ('ENDPAD', 'PAD'), ('ENDPAD', 'PAD'), ('ENDPAD', 'PAD'), ('ENDPAD', 'PAD'), ('ENDPAD', 'PAD'), ('ENDPAD', 'PAD'), ('ENDPAD', 'PAD'), ('ENDPAD', 'PAD'), ('ENDPAD', 'PAD'), ('ENDPAD', 'PAD'), ('ENDPAD', 'PAD'), ('ENDPAD', 'PAD'), ('ENDPAD', 'PAD'), ('ENDPAD', 'PAD'), ('ENDPAD', 'PAD'), ('ENDPAD', 'PAD')]\n",
            "[('Even', 'O'), ('though', 'O'), ('both', 'O'), ('sites', 'O'), ('are', 'O'), ('now', 'O'), ('functioning', 'O'), (',', 'O'), ('Twitter', 'B-org'), ('says', 'O'), ('users', 'O'), ('will', 'O'), ('continue', 'O'), ('to', 'O'), ('experience', 'O'), ('longer', 'O'), ('load', 'O'), ('times', 'O'), ('and', 'O'), ('slow', 'O'), ('response', 'O'), ('.', 'O'), ('ENDPAD', 'PAD'), ('ENDPAD', 'PAD'), ('ENDPAD', 'PAD'), ('ENDPAD', 'PAD'), ('ENDPAD', 'PAD'), ('ENDPAD', 'PAD'), ('ENDPAD', 'PAD'), ('ENDPAD', 'PAD'), ('ENDPAD', 'PAD'), ('ENDPAD', 'PAD'), ('ENDPAD', 'PAD'), ('ENDPAD', 'PAD'), ('ENDPAD', 'PAD'), ('ENDPAD', 'PAD'), ('ENDPAD', 'PAD'), ('ENDPAD', 'PAD'), ('ENDPAD', 'PAD'), ('ENDPAD', 'PAD'), ('ENDPAD', 'PAD'), ('ENDPAD', 'PAD'), ('ENDPAD', 'PAD'), ('ENDPAD', 'PAD'), ('ENDPAD', 'PAD'), ('ENDPAD', 'PAD'), ('ENDPAD', 'PAD'), ('ENDPAD', 'PAD'), ('ENDPAD', 'PAD'), ('ENDPAD', 'PAD'), ('ENDPAD', 'PAD'), ('ENDPAD', 'PAD'), ('ENDPAD', 'PAD'), ('ENDPAD', 'PAD'), ('ENDPAD', 'PAD'), ('ENDPAD', 'PAD'), ('ENDPAD', 'PAD'), ('ENDPAD', 'PAD'), ('ENDPAD', 'PAD'), ('ENDPAD', 'PAD'), ('ENDPAD', 'PAD'), ('ENDPAD', 'PAD'), ('ENDPAD', 'PAD'), ('ENDPAD', 'PAD'), ('ENDPAD', 'PAD'), ('ENDPAD', 'PAD'), ('ENDPAD', 'PAD'), ('ENDPAD', 'PAD'), ('ENDPAD', 'PAD'), ('ENDPAD', 'PAD'), ('ENDPAD', 'PAD'), ('ENDPAD', 'PAD'), ('ENDPAD', 'PAD'), ('ENDPAD', 'PAD'), ('ENDPAD', 'PAD'), ('ENDPAD', 'PAD'), ('ENDPAD', 'PAD'), ('ENDPAD', 'PAD'), ('ENDPAD', 'PAD'), ('ENDPAD', 'PAD'), ('ENDPAD', 'PAD'), ('ENDPAD', 'PAD'), ('ENDPAD', 'PAD'), ('ENDPAD', 'PAD'), ('ENDPAD', 'PAD'), ('ENDPAD', 'PAD'), ('ENDPAD', 'PAD'), ('ENDPAD', 'PAD'), ('ENDPAD', 'PAD'), ('ENDPAD', 'PAD'), ('ENDPAD', 'PAD'), ('ENDPAD', 'PAD'), ('ENDPAD', 'PAD'), ('ENDPAD', 'PAD'), ('ENDPAD', 'PAD'), ('ENDPAD', 'PAD'), ('ENDPAD', 'PAD'), ('ENDPAD', 'PAD'), ('ENDPAD', 'PAD'), ('ENDPAD', 'PAD'), ('ENDPAD', 'PAD'), ('ENDPAD', 'PAD'), ('ENDPAD', 'PAD'), ('ENDPAD', 'PAD')]\n",
            "[('Even', 'O'), ('though', 'O'), ('both', 'O'), ('sites', 'O'), ('are', 'O'), ('now', 'O'), ('functioning', 'O'), (',', 'O'), ('Twitter', 'B-org'), ('says', 'O'), ('users', 'O'), ('will', 'O'), ('continue', 'O'), ('to', 'O'), ('experience', 'O'), ('longer', 'O'), ('load', 'O'), ('times', 'O'), ('and', 'O'), ('slow', 'O'), ('response', 'O'), ('.', 'O'), ('ENDPAD', 'PAD'), ('ENDPAD', 'PAD'), ('ENDPAD', 'PAD'), ('ENDPAD', 'PAD'), ('ENDPAD', 'PAD'), ('ENDPAD', 'PAD'), ('ENDPAD', 'PAD'), ('ENDPAD', 'PAD'), ('ENDPAD', 'PAD'), ('ENDPAD', 'PAD'), ('ENDPAD', 'PAD'), ('ENDPAD', 'PAD'), ('ENDPAD', 'PAD'), ('ENDPAD', 'PAD'), ('ENDPAD', 'PAD'), ('ENDPAD', 'PAD'), ('ENDPAD', 'PAD'), ('ENDPAD', 'PAD'), ('ENDPAD', 'PAD'), ('ENDPAD', 'PAD'), ('ENDPAD', 'PAD'), ('ENDPAD', 'PAD'), ('ENDPAD', 'PAD'), ('ENDPAD', 'PAD'), ('ENDPAD', 'PAD'), ('ENDPAD', 'PAD'), ('ENDPAD', 'PAD'), ('ENDPAD', 'PAD'), ('ENDPAD', 'PAD'), ('ENDPAD', 'PAD'), ('ENDPAD', 'PAD'), ('ENDPAD', 'PAD'), ('ENDPAD', 'PAD'), ('ENDPAD', 'PAD'), ('ENDPAD', 'PAD'), ('ENDPAD', 'PAD'), ('ENDPAD', 'PAD'), ('ENDPAD', 'PAD'), ('ENDPAD', 'PAD'), ('ENDPAD', 'PAD'), ('ENDPAD', 'PAD'), ('ENDPAD', 'PAD'), ('ENDPAD', 'PAD'), ('ENDPAD', 'PAD'), ('ENDPAD', 'PAD'), ('ENDPAD', 'PAD'), ('ENDPAD', 'PAD'), ('ENDPAD', 'PAD'), ('ENDPAD', 'PAD'), ('ENDPAD', 'PAD'), ('ENDPAD', 'PAD'), ('ENDPAD', 'PAD'), ('ENDPAD', 'PAD'), ('ENDPAD', 'PAD'), ('ENDPAD', 'PAD'), ('ENDPAD', 'PAD'), ('ENDPAD', 'PAD'), ('ENDPAD', 'PAD'), ('ENDPAD', 'PAD'), ('ENDPAD', 'PAD'), ('ENDPAD', 'PAD'), ('ENDPAD', 'PAD'), ('ENDPAD', 'PAD'), ('ENDPAD', 'PAD'), ('ENDPAD', 'PAD'), ('ENDPAD', 'PAD'), ('ENDPAD', 'PAD'), ('ENDPAD', 'PAD'), ('ENDPAD', 'PAD'), ('ENDPAD', 'PAD'), ('ENDPAD', 'PAD'), ('ENDPAD', 'PAD'), ('ENDPAD', 'PAD'), ('ENDPAD', 'PAD'), ('ENDPAD', 'PAD'), ('ENDPAD', 'PAD'), ('ENDPAD', 'PAD'), ('ENDPAD', 'PAD'), ('ENDPAD', 'PAD'), ('ENDPAD', 'PAD'), ('ENDPAD', 'PAD'), ('ENDPAD', 'PAD')]\n",
            "[('Suspected', 'O'), ('U.S.', 'B-geo'), ('drones', 'O'), ('have', 'O'), ('carried', 'O'), ('out', 'O'), ('at', 'O'), ('least', 'O'), ('30', 'O'), ('missile', 'O'), ('strikes', 'O'), ('on', 'O'), ('militant', 'O'), ('targets', 'O'), ('in', 'O'), ('northwest', 'B-geo'), ('Pakistan', 'I-geo'), ('over', 'O'), ('the', 'O'), ('past', 'B-tim'), ('year', 'O'), ('.', 'O'), ('ENDPAD', 'PAD'), ('ENDPAD', 'PAD'), ('ENDPAD', 'PAD'), ('ENDPAD', 'PAD'), ('ENDPAD', 'PAD'), ('ENDPAD', 'PAD'), ('ENDPAD', 'PAD'), ('ENDPAD', 'PAD'), ('ENDPAD', 'PAD'), ('ENDPAD', 'PAD'), ('ENDPAD', 'PAD'), ('ENDPAD', 'PAD'), ('ENDPAD', 'PAD'), ('ENDPAD', 'PAD'), ('ENDPAD', 'PAD'), ('ENDPAD', 'PAD'), ('ENDPAD', 'PAD'), ('ENDPAD', 'PAD'), ('ENDPAD', 'PAD'), ('ENDPAD', 'PAD'), ('ENDPAD', 'PAD'), ('ENDPAD', 'PAD'), ('ENDPAD', 'PAD'), ('ENDPAD', 'PAD'), ('ENDPAD', 'PAD'), ('ENDPAD', 'PAD'), ('ENDPAD', 'PAD'), ('ENDPAD', 'PAD'), ('ENDPAD', 'PAD'), ('ENDPAD', 'PAD'), ('ENDPAD', 'PAD'), ('ENDPAD', 'PAD'), ('ENDPAD', 'PAD'), ('ENDPAD', 'PAD'), ('ENDPAD', 'PAD'), ('ENDPAD', 'PAD'), ('ENDPAD', 'PAD'), ('ENDPAD', 'PAD'), ('ENDPAD', 'PAD'), ('ENDPAD', 'PAD'), ('ENDPAD', 'PAD'), ('ENDPAD', 'PAD'), ('ENDPAD', 'PAD'), ('ENDPAD', 'PAD'), ('ENDPAD', 'PAD'), ('ENDPAD', 'PAD'), ('ENDPAD', 'PAD'), ('ENDPAD', 'PAD'), ('ENDPAD', 'PAD'), ('ENDPAD', 'PAD'), ('ENDPAD', 'PAD'), ('ENDPAD', 'PAD'), ('ENDPAD', 'PAD'), ('ENDPAD', 'PAD'), ('ENDPAD', 'PAD'), ('ENDPAD', 'PAD'), ('ENDPAD', 'PAD'), ('ENDPAD', 'PAD'), ('ENDPAD', 'PAD'), ('ENDPAD', 'PAD'), ('ENDPAD', 'PAD'), ('ENDPAD', 'PAD'), ('ENDPAD', 'PAD'), ('ENDPAD', 'PAD'), ('ENDPAD', 'PAD'), ('ENDPAD', 'PAD'), ('ENDPAD', 'PAD'), ('ENDPAD', 'PAD'), ('ENDPAD', 'PAD'), ('ENDPAD', 'PAD'), ('ENDPAD', 'PAD'), ('ENDPAD', 'PAD'), ('ENDPAD', 'PAD'), ('ENDPAD', 'PAD'), ('ENDPAD', 'PAD'), ('ENDPAD', 'PAD'), ('ENDPAD', 'PAD'), ('ENDPAD', 'PAD'), ('ENDPAD', 'PAD'), ('ENDPAD', 'PAD'), ('ENDPAD', 'PAD'), ('ENDPAD', 'PAD')]\n",
            "[('Suspected', 'O'), ('U.S.', 'B-geo'), ('drones', 'O'), ('have', 'O'), ('carried', 'O'), ('out', 'O'), ('at', 'O'), ('least', 'O'), ('30', 'O'), ('missile', 'O'), ('strikes', 'O'), ('on', 'O'), ('militant', 'O'), ('targets', 'O'), ('in', 'O'), ('northwest', 'O'), ('Pakistan', 'B-geo'), ('over', 'O'), ('the', 'O'), ('past', 'O'), ('year', 'O'), ('.', 'O'), ('ENDPAD', 'PAD'), ('ENDPAD', 'PAD'), ('ENDPAD', 'PAD'), ('ENDPAD', 'PAD'), ('ENDPAD', 'PAD'), ('ENDPAD', 'PAD'), ('ENDPAD', 'PAD'), ('ENDPAD', 'PAD'), ('ENDPAD', 'PAD'), ('ENDPAD', 'PAD'), ('ENDPAD', 'PAD'), ('ENDPAD', 'PAD'), ('ENDPAD', 'PAD'), ('ENDPAD', 'PAD'), ('ENDPAD', 'PAD'), ('ENDPAD', 'PAD'), ('ENDPAD', 'PAD'), ('ENDPAD', 'PAD'), ('ENDPAD', 'PAD'), ('ENDPAD', 'PAD'), ('ENDPAD', 'PAD'), ('ENDPAD', 'PAD'), ('ENDPAD', 'PAD'), ('ENDPAD', 'PAD'), ('ENDPAD', 'PAD'), ('ENDPAD', 'PAD'), ('ENDPAD', 'PAD'), ('ENDPAD', 'PAD'), ('ENDPAD', 'PAD'), ('ENDPAD', 'PAD'), ('ENDPAD', 'PAD'), ('ENDPAD', 'PAD'), ('ENDPAD', 'PAD'), ('ENDPAD', 'PAD'), ('ENDPAD', 'PAD'), ('ENDPAD', 'PAD'), ('ENDPAD', 'PAD'), ('ENDPAD', 'PAD'), ('ENDPAD', 'PAD'), ('ENDPAD', 'PAD'), ('ENDPAD', 'PAD'), ('ENDPAD', 'PAD'), ('ENDPAD', 'PAD'), ('ENDPAD', 'PAD'), ('ENDPAD', 'PAD'), ('ENDPAD', 'PAD'), ('ENDPAD', 'PAD'), ('ENDPAD', 'PAD'), ('ENDPAD', 'PAD'), ('ENDPAD', 'PAD'), ('ENDPAD', 'PAD'), ('ENDPAD', 'PAD'), ('ENDPAD', 'PAD'), ('ENDPAD', 'PAD'), ('ENDPAD', 'PAD'), ('ENDPAD', 'PAD'), ('ENDPAD', 'PAD'), ('ENDPAD', 'PAD'), ('ENDPAD', 'PAD'), ('ENDPAD', 'PAD'), ('ENDPAD', 'PAD'), ('ENDPAD', 'PAD'), ('ENDPAD', 'PAD'), ('ENDPAD', 'PAD'), ('ENDPAD', 'PAD'), ('ENDPAD', 'PAD'), ('ENDPAD', 'PAD'), ('ENDPAD', 'PAD'), ('ENDPAD', 'PAD'), ('ENDPAD', 'PAD'), ('ENDPAD', 'PAD'), ('ENDPAD', 'PAD'), ('ENDPAD', 'PAD'), ('ENDPAD', 'PAD'), ('ENDPAD', 'PAD'), ('ENDPAD', 'PAD'), ('ENDPAD', 'PAD'), ('ENDPAD', 'PAD'), ('ENDPAD', 'PAD'), ('ENDPAD', 'PAD'), ('ENDPAD', 'PAD'), ('ENDPAD', 'PAD')]\n",
            "[('President', 'B-per'), ('Barack', 'I-per'), ('Obama', 'I-per'), ('has', 'O'), ('reaffirmed', 'O'), ('his', 'O'), ('belief', 'O'), ('in', 'O'), ('a', 'O'), ('woman', 'O'), (\"'s\", 'O'), ('right', 'O'), ('to', 'O'), ('choose', 'O'), ('whether', 'O'), ('to', 'O'), ('have', 'O'), ('an', 'O'), ('abortion', 'O'), ('as', 'O'), ('tens', 'O'), ('of', 'O'), ('thousands', 'O'), ('of', 'O'), ('abortion', 'O'), ('opponents', 'O'), ('held', 'O'), ('their', 'O'), ('annual', 'O'), ('rally', 'O'), ('in', 'O'), ('Washington', 'B-geo'), ('.', 'O'), ('ENDPAD', 'PAD'), ('ENDPAD', 'PAD'), ('ENDPAD', 'PAD'), ('ENDPAD', 'PAD'), ('ENDPAD', 'PAD'), ('ENDPAD', 'PAD'), ('ENDPAD', 'PAD'), ('ENDPAD', 'PAD'), ('ENDPAD', 'PAD'), ('ENDPAD', 'PAD'), ('ENDPAD', 'PAD'), ('ENDPAD', 'PAD'), ('ENDPAD', 'PAD'), ('ENDPAD', 'PAD'), ('ENDPAD', 'PAD'), ('ENDPAD', 'PAD'), ('ENDPAD', 'PAD'), ('ENDPAD', 'PAD'), ('ENDPAD', 'PAD'), ('ENDPAD', 'PAD'), ('ENDPAD', 'PAD'), ('ENDPAD', 'PAD'), ('ENDPAD', 'PAD'), ('ENDPAD', 'PAD'), ('ENDPAD', 'PAD'), ('ENDPAD', 'PAD'), ('ENDPAD', 'PAD'), ('ENDPAD', 'PAD'), ('ENDPAD', 'PAD'), ('ENDPAD', 'PAD'), ('ENDPAD', 'PAD'), ('ENDPAD', 'PAD'), ('ENDPAD', 'PAD'), ('ENDPAD', 'PAD'), ('ENDPAD', 'PAD'), ('ENDPAD', 'PAD'), ('ENDPAD', 'PAD'), ('ENDPAD', 'PAD'), ('ENDPAD', 'PAD'), ('ENDPAD', 'PAD'), ('ENDPAD', 'PAD'), ('ENDPAD', 'PAD'), ('ENDPAD', 'PAD'), ('ENDPAD', 'PAD'), ('ENDPAD', 'PAD'), ('ENDPAD', 'PAD'), ('ENDPAD', 'PAD'), ('ENDPAD', 'PAD'), ('ENDPAD', 'PAD'), ('ENDPAD', 'PAD'), ('ENDPAD', 'PAD'), ('ENDPAD', 'PAD'), ('ENDPAD', 'PAD'), ('ENDPAD', 'PAD'), ('ENDPAD', 'PAD'), ('ENDPAD', 'PAD'), ('ENDPAD', 'PAD'), ('ENDPAD', 'PAD'), ('ENDPAD', 'PAD'), ('ENDPAD', 'PAD'), ('ENDPAD', 'PAD'), ('ENDPAD', 'PAD'), ('ENDPAD', 'PAD'), ('ENDPAD', 'PAD'), ('ENDPAD', 'PAD'), ('ENDPAD', 'PAD'), ('ENDPAD', 'PAD'), ('ENDPAD', 'PAD'), ('ENDPAD', 'PAD'), ('ENDPAD', 'PAD'), ('ENDPAD', 'PAD')]\n",
            "[('President', 'B-per'), ('Barack', 'B-geo'), ('Obama', 'B-per'), ('has', 'O'), ('reaffirmed', 'O'), ('his', 'O'), ('belief', 'O'), ('in', 'O'), ('a', 'O'), ('woman', 'O'), (\"'s\", 'O'), ('right', 'O'), ('to', 'O'), ('choose', 'O'), ('whether', 'O'), ('to', 'O'), ('have', 'O'), ('an', 'O'), ('abortion', 'O'), ('as', 'O'), ('tens', 'O'), ('of', 'O'), ('thousands', 'O'), ('of', 'O'), ('abortion', 'O'), ('opponents', 'O'), ('held', 'O'), ('their', 'O'), ('annual', 'O'), ('rally', 'O'), ('in', 'O'), ('Washington', 'B-geo'), ('.', 'O'), ('ENDPAD', 'PAD'), ('ENDPAD', 'PAD'), ('ENDPAD', 'PAD'), ('ENDPAD', 'PAD'), ('ENDPAD', 'PAD'), ('ENDPAD', 'PAD'), ('ENDPAD', 'PAD'), ('ENDPAD', 'PAD'), ('ENDPAD', 'PAD'), ('ENDPAD', 'PAD'), ('ENDPAD', 'PAD'), ('ENDPAD', 'PAD'), ('ENDPAD', 'PAD'), ('ENDPAD', 'PAD'), ('ENDPAD', 'PAD'), ('ENDPAD', 'PAD'), ('ENDPAD', 'PAD'), ('ENDPAD', 'PAD'), ('ENDPAD', 'PAD'), ('ENDPAD', 'PAD'), ('ENDPAD', 'PAD'), ('ENDPAD', 'PAD'), ('ENDPAD', 'PAD'), ('ENDPAD', 'PAD'), ('ENDPAD', 'PAD'), ('ENDPAD', 'PAD'), ('ENDPAD', 'PAD'), ('ENDPAD', 'PAD'), ('ENDPAD', 'PAD'), ('ENDPAD', 'PAD'), ('ENDPAD', 'PAD'), ('ENDPAD', 'PAD'), ('ENDPAD', 'PAD'), ('ENDPAD', 'PAD'), ('ENDPAD', 'PAD'), ('ENDPAD', 'PAD'), ('ENDPAD', 'PAD'), ('ENDPAD', 'PAD'), ('ENDPAD', 'PAD'), ('ENDPAD', 'PAD'), ('ENDPAD', 'PAD'), ('ENDPAD', 'PAD'), ('ENDPAD', 'PAD'), ('ENDPAD', 'PAD'), ('ENDPAD', 'PAD'), ('ENDPAD', 'PAD'), ('ENDPAD', 'PAD'), ('ENDPAD', 'PAD'), ('ENDPAD', 'PAD'), ('ENDPAD', 'PAD'), ('ENDPAD', 'PAD'), ('ENDPAD', 'PAD'), ('ENDPAD', 'PAD'), ('ENDPAD', 'PAD'), ('ENDPAD', 'PAD'), ('ENDPAD', 'PAD'), ('ENDPAD', 'PAD'), ('ENDPAD', 'PAD'), ('ENDPAD', 'PAD'), ('ENDPAD', 'PAD'), ('ENDPAD', 'PAD'), ('ENDPAD', 'PAD'), ('ENDPAD', 'PAD'), ('ENDPAD', 'PAD'), ('ENDPAD', 'PAD'), ('ENDPAD', 'PAD'), ('ENDPAD', 'PAD'), ('ENDPAD', 'PAD'), ('ENDPAD', 'PAD'), ('ENDPAD', 'PAD'), ('ENDPAD', 'PAD')]\n",
            "[('They', 'O'), ('all', 'O'), ('decided', 'O'), ('that', 'O'), ('one', 'O'), ('person', 'O'), ('should', 'O'), ('get', 'O'), ('off', 'O'), (',', 'O'), ('because', 'O'), ('if', 'O'), ('they', 'O'), ('did', 'O'), (\"n't\", 'O'), (',', 'O'), ('the', 'O'), ('rope', 'O'), ('would', 'O'), ('break', 'O'), ('and', 'O'), ('everyone', 'O'), ('would', 'O'), ('die', 'O'), ('.', 'O'), ('ENDPAD', 'PAD'), ('ENDPAD', 'PAD'), ('ENDPAD', 'PAD'), ('ENDPAD', 'PAD'), ('ENDPAD', 'PAD'), ('ENDPAD', 'PAD'), ('ENDPAD', 'PAD'), ('ENDPAD', 'PAD'), ('ENDPAD', 'PAD'), ('ENDPAD', 'PAD'), ('ENDPAD', 'PAD'), ('ENDPAD', 'PAD'), ('ENDPAD', 'PAD'), ('ENDPAD', 'PAD'), ('ENDPAD', 'PAD'), ('ENDPAD', 'PAD'), ('ENDPAD', 'PAD'), ('ENDPAD', 'PAD'), ('ENDPAD', 'PAD'), ('ENDPAD', 'PAD'), ('ENDPAD', 'PAD'), ('ENDPAD', 'PAD'), ('ENDPAD', 'PAD'), ('ENDPAD', 'PAD'), ('ENDPAD', 'PAD'), ('ENDPAD', 'PAD'), ('ENDPAD', 'PAD'), ('ENDPAD', 'PAD'), ('ENDPAD', 'PAD'), ('ENDPAD', 'PAD'), ('ENDPAD', 'PAD'), ('ENDPAD', 'PAD'), ('ENDPAD', 'PAD'), ('ENDPAD', 'PAD'), ('ENDPAD', 'PAD'), ('ENDPAD', 'PAD'), ('ENDPAD', 'PAD'), ('ENDPAD', 'PAD'), ('ENDPAD', 'PAD'), ('ENDPAD', 'PAD'), ('ENDPAD', 'PAD'), ('ENDPAD', 'PAD'), ('ENDPAD', 'PAD'), ('ENDPAD', 'PAD'), ('ENDPAD', 'PAD'), ('ENDPAD', 'PAD'), ('ENDPAD', 'PAD'), ('ENDPAD', 'PAD'), ('ENDPAD', 'PAD'), ('ENDPAD', 'PAD'), ('ENDPAD', 'PAD'), ('ENDPAD', 'PAD'), ('ENDPAD', 'PAD'), ('ENDPAD', 'PAD'), ('ENDPAD', 'PAD'), ('ENDPAD', 'PAD'), ('ENDPAD', 'PAD'), ('ENDPAD', 'PAD'), ('ENDPAD', 'PAD'), ('ENDPAD', 'PAD'), ('ENDPAD', 'PAD'), ('ENDPAD', 'PAD'), ('ENDPAD', 'PAD'), ('ENDPAD', 'PAD'), ('ENDPAD', 'PAD'), ('ENDPAD', 'PAD'), ('ENDPAD', 'PAD'), ('ENDPAD', 'PAD'), ('ENDPAD', 'PAD'), ('ENDPAD', 'PAD'), ('ENDPAD', 'PAD'), ('ENDPAD', 'PAD'), ('ENDPAD', 'PAD'), ('ENDPAD', 'PAD'), ('ENDPAD', 'PAD'), ('ENDPAD', 'PAD'), ('ENDPAD', 'PAD'), ('ENDPAD', 'PAD'), ('ENDPAD', 'PAD')]\n",
            "[('They', 'O'), ('all', 'O'), ('decided', 'O'), ('that', 'O'), ('one', 'O'), ('person', 'O'), ('should', 'O'), ('get', 'O'), ('off', 'O'), (',', 'O'), ('because', 'O'), ('if', 'O'), ('they', 'O'), ('did', 'O'), (\"n't\", 'O'), (',', 'O'), ('the', 'O'), ('rope', 'O'), ('would', 'O'), ('break', 'O'), ('and', 'O'), ('everyone', 'O'), ('would', 'O'), ('die', 'O'), ('.', 'O'), ('ENDPAD', 'PAD'), ('ENDPAD', 'PAD'), ('ENDPAD', 'PAD'), ('ENDPAD', 'PAD'), ('ENDPAD', 'PAD'), ('ENDPAD', 'PAD'), ('ENDPAD', 'PAD'), ('ENDPAD', 'PAD'), ('ENDPAD', 'PAD'), ('ENDPAD', 'PAD'), ('ENDPAD', 'PAD'), ('ENDPAD', 'PAD'), ('ENDPAD', 'PAD'), ('ENDPAD', 'PAD'), ('ENDPAD', 'PAD'), ('ENDPAD', 'PAD'), ('ENDPAD', 'PAD'), ('ENDPAD', 'PAD'), ('ENDPAD', 'PAD'), ('ENDPAD', 'PAD'), ('ENDPAD', 'PAD'), ('ENDPAD', 'PAD'), ('ENDPAD', 'PAD'), ('ENDPAD', 'PAD'), ('ENDPAD', 'PAD'), ('ENDPAD', 'PAD'), ('ENDPAD', 'PAD'), ('ENDPAD', 'PAD'), ('ENDPAD', 'PAD'), ('ENDPAD', 'PAD'), ('ENDPAD', 'PAD'), ('ENDPAD', 'PAD'), ('ENDPAD', 'PAD'), ('ENDPAD', 'PAD'), ('ENDPAD', 'PAD'), ('ENDPAD', 'PAD'), ('ENDPAD', 'PAD'), ('ENDPAD', 'PAD'), ('ENDPAD', 'PAD'), ('ENDPAD', 'PAD'), ('ENDPAD', 'PAD'), ('ENDPAD', 'PAD'), ('ENDPAD', 'PAD'), ('ENDPAD', 'PAD'), ('ENDPAD', 'PAD'), ('ENDPAD', 'PAD'), ('ENDPAD', 'PAD'), ('ENDPAD', 'PAD'), ('ENDPAD', 'PAD'), ('ENDPAD', 'PAD'), ('ENDPAD', 'PAD'), ('ENDPAD', 'PAD'), ('ENDPAD', 'PAD'), ('ENDPAD', 'PAD'), ('ENDPAD', 'PAD'), ('ENDPAD', 'PAD'), ('ENDPAD', 'PAD'), ('ENDPAD', 'PAD'), ('ENDPAD', 'PAD'), ('ENDPAD', 'PAD'), ('ENDPAD', 'PAD'), ('ENDPAD', 'PAD'), ('ENDPAD', 'PAD'), ('ENDPAD', 'PAD'), ('ENDPAD', 'PAD'), ('ENDPAD', 'PAD'), ('ENDPAD', 'PAD'), ('ENDPAD', 'PAD'), ('ENDPAD', 'PAD'), ('ENDPAD', 'PAD'), ('ENDPAD', 'PAD'), ('ENDPAD', 'PAD'), ('ENDPAD', 'PAD'), ('ENDPAD', 'PAD'), ('ENDPAD', 'PAD'), ('ENDPAD', 'PAD'), ('ENDPAD', 'PAD'), ('ENDPAD', 'PAD'), ('ENDPAD', 'PAD')]\n",
            "[('Ali', 'B-per'), ('al-Naimi', 'I-per'), ('said', 'O'), ('in', 'O'), ('New', 'B-geo'), ('Delhi', 'I-geo'), ('that', 'O'), ('recent', 'O'), ('OPEC', 'B-org'), ('cuts', 'O'), ('are', 'O'), ('working', 'O'), ('well', 'O'), (',', 'O'), ('and', 'O'), ('a', 'O'), ('meeting', 'O'), ('to', 'O'), ('discuss', 'O'), ('further', 'O'), ('cutbacks', 'O'), ('is', 'O'), ('unnecessary', 'O'), ('.', 'O'), ('ENDPAD', 'PAD'), ('ENDPAD', 'PAD'), ('ENDPAD', 'PAD'), ('ENDPAD', 'PAD'), ('ENDPAD', 'PAD'), ('ENDPAD', 'PAD'), ('ENDPAD', 'PAD'), ('ENDPAD', 'PAD'), ('ENDPAD', 'PAD'), ('ENDPAD', 'PAD'), ('ENDPAD', 'PAD'), ('ENDPAD', 'PAD'), ('ENDPAD', 'PAD'), ('ENDPAD', 'PAD'), ('ENDPAD', 'PAD'), ('ENDPAD', 'PAD'), ('ENDPAD', 'PAD'), ('ENDPAD', 'PAD'), ('ENDPAD', 'PAD'), ('ENDPAD', 'PAD'), ('ENDPAD', 'PAD'), ('ENDPAD', 'PAD'), ('ENDPAD', 'PAD'), ('ENDPAD', 'PAD'), ('ENDPAD', 'PAD'), ('ENDPAD', 'PAD'), ('ENDPAD', 'PAD'), ('ENDPAD', 'PAD'), ('ENDPAD', 'PAD'), ('ENDPAD', 'PAD'), ('ENDPAD', 'PAD'), ('ENDPAD', 'PAD'), ('ENDPAD', 'PAD'), ('ENDPAD', 'PAD'), ('ENDPAD', 'PAD'), ('ENDPAD', 'PAD'), ('ENDPAD', 'PAD'), ('ENDPAD', 'PAD'), ('ENDPAD', 'PAD'), ('ENDPAD', 'PAD'), ('ENDPAD', 'PAD'), ('ENDPAD', 'PAD'), ('ENDPAD', 'PAD'), ('ENDPAD', 'PAD'), ('ENDPAD', 'PAD'), ('ENDPAD', 'PAD'), ('ENDPAD', 'PAD'), ('ENDPAD', 'PAD'), ('ENDPAD', 'PAD'), ('ENDPAD', 'PAD'), ('ENDPAD', 'PAD'), ('ENDPAD', 'PAD'), ('ENDPAD', 'PAD'), ('ENDPAD', 'PAD'), ('ENDPAD', 'PAD'), ('ENDPAD', 'PAD'), ('ENDPAD', 'PAD'), ('ENDPAD', 'PAD'), ('ENDPAD', 'PAD'), ('ENDPAD', 'PAD'), ('ENDPAD', 'PAD'), ('ENDPAD', 'PAD'), ('ENDPAD', 'PAD'), ('ENDPAD', 'PAD'), ('ENDPAD', 'PAD'), ('ENDPAD', 'PAD'), ('ENDPAD', 'PAD'), ('ENDPAD', 'PAD'), ('ENDPAD', 'PAD'), ('ENDPAD', 'PAD'), ('ENDPAD', 'PAD'), ('ENDPAD', 'PAD'), ('ENDPAD', 'PAD'), ('ENDPAD', 'PAD'), ('ENDPAD', 'PAD'), ('ENDPAD', 'PAD'), ('ENDPAD', 'PAD'), ('ENDPAD', 'PAD'), ('ENDPAD', 'PAD'), ('ENDPAD', 'PAD')]\n",
            "[('Ali', 'B-per'), ('al-Naimi', 'B-per'), ('said', 'O'), ('in', 'O'), ('New', 'B-org'), ('Delhi', 'B-gpe'), ('that', 'O'), ('recent', 'O'), ('OPEC', 'B-org'), ('cuts', 'O'), ('are', 'O'), ('working', 'O'), ('well', 'O'), (',', 'O'), ('and', 'O'), ('a', 'O'), ('meeting', 'O'), ('to', 'O'), ('discuss', 'O'), ('further', 'O'), ('cutbacks', 'O'), ('is', 'O'), ('unnecessary', 'O'), ('.', 'O'), ('ENDPAD', 'PAD'), ('ENDPAD', 'PAD'), ('ENDPAD', 'PAD'), ('ENDPAD', 'PAD'), ('ENDPAD', 'PAD'), ('ENDPAD', 'PAD'), ('ENDPAD', 'PAD'), ('ENDPAD', 'PAD'), ('ENDPAD', 'PAD'), ('ENDPAD', 'PAD'), ('ENDPAD', 'PAD'), ('ENDPAD', 'PAD'), ('ENDPAD', 'PAD'), ('ENDPAD', 'PAD'), ('ENDPAD', 'PAD'), ('ENDPAD', 'PAD'), ('ENDPAD', 'PAD'), ('ENDPAD', 'PAD'), ('ENDPAD', 'PAD'), ('ENDPAD', 'PAD'), ('ENDPAD', 'PAD'), ('ENDPAD', 'PAD'), ('ENDPAD', 'PAD'), ('ENDPAD', 'PAD'), ('ENDPAD', 'PAD'), ('ENDPAD', 'PAD'), ('ENDPAD', 'PAD'), ('ENDPAD', 'PAD'), ('ENDPAD', 'PAD'), ('ENDPAD', 'PAD'), ('ENDPAD', 'PAD'), ('ENDPAD', 'PAD'), ('ENDPAD', 'PAD'), ('ENDPAD', 'PAD'), ('ENDPAD', 'PAD'), ('ENDPAD', 'PAD'), ('ENDPAD', 'PAD'), ('ENDPAD', 'PAD'), ('ENDPAD', 'PAD'), ('ENDPAD', 'PAD'), ('ENDPAD', 'PAD'), ('ENDPAD', 'PAD'), ('ENDPAD', 'PAD'), ('ENDPAD', 'PAD'), ('ENDPAD', 'PAD'), ('ENDPAD', 'PAD'), ('ENDPAD', 'PAD'), ('ENDPAD', 'PAD'), ('ENDPAD', 'PAD'), ('ENDPAD', 'PAD'), ('ENDPAD', 'PAD'), ('ENDPAD', 'PAD'), ('ENDPAD', 'PAD'), ('ENDPAD', 'PAD'), ('ENDPAD', 'PAD'), ('ENDPAD', 'PAD'), ('ENDPAD', 'PAD'), ('ENDPAD', 'PAD'), ('ENDPAD', 'PAD'), ('ENDPAD', 'PAD'), ('ENDPAD', 'PAD'), ('ENDPAD', 'PAD'), ('ENDPAD', 'PAD'), ('ENDPAD', 'PAD'), ('ENDPAD', 'PAD'), ('ENDPAD', 'PAD'), ('ENDPAD', 'PAD'), ('ENDPAD', 'PAD'), ('ENDPAD', 'PAD'), ('ENDPAD', 'PAD'), ('ENDPAD', 'PAD'), ('ENDPAD', 'PAD'), ('ENDPAD', 'PAD'), ('ENDPAD', 'PAD'), ('ENDPAD', 'PAD'), ('ENDPAD', 'PAD'), ('ENDPAD', 'PAD'), ('ENDPAD', 'PAD'), ('ENDPAD', 'PAD'), ('ENDPAD', 'PAD')]\n",
            "[('Pakistani', 'B-gpe'), ('President', 'B-per'), ('Pervez', 'I-per'), ('Musharraf', 'I-per'), ('has', 'O'), ('dismissed', 'O'), ('opposition', 'O'), ('protests', 'O'), ('over', 'O'), ('the', 'O'), ('suspension', 'O'), ('of', 'O'), ('the', 'O'), ('country', 'O'), (\"'s\", 'O'), ('top', 'O'), ('judge', 'O'), (',', 'O'), ('saying', 'O'), ('his', 'O'), ('critics', 'O'), ('are', 'O'), ('trying', 'O'), ('to', 'O'), ('politicize', 'O'), ('a', 'O'), ('constitutional', 'O'), ('and', 'O'), ('judicial', 'O'), ('issue', 'O'), ('.', 'O'), ('ENDPAD', 'PAD'), ('ENDPAD', 'PAD'), ('ENDPAD', 'PAD'), ('ENDPAD', 'PAD'), ('ENDPAD', 'PAD'), ('ENDPAD', 'PAD'), ('ENDPAD', 'PAD'), ('ENDPAD', 'PAD'), ('ENDPAD', 'PAD'), ('ENDPAD', 'PAD'), ('ENDPAD', 'PAD'), ('ENDPAD', 'PAD'), ('ENDPAD', 'PAD'), ('ENDPAD', 'PAD'), ('ENDPAD', 'PAD'), ('ENDPAD', 'PAD'), ('ENDPAD', 'PAD'), ('ENDPAD', 'PAD'), ('ENDPAD', 'PAD'), ('ENDPAD', 'PAD'), ('ENDPAD', 'PAD'), ('ENDPAD', 'PAD'), ('ENDPAD', 'PAD'), ('ENDPAD', 'PAD'), ('ENDPAD', 'PAD'), ('ENDPAD', 'PAD'), ('ENDPAD', 'PAD'), ('ENDPAD', 'PAD'), ('ENDPAD', 'PAD'), ('ENDPAD', 'PAD'), ('ENDPAD', 'PAD'), ('ENDPAD', 'PAD'), ('ENDPAD', 'PAD'), ('ENDPAD', 'PAD'), ('ENDPAD', 'PAD'), ('ENDPAD', 'PAD'), ('ENDPAD', 'PAD'), ('ENDPAD', 'PAD'), ('ENDPAD', 'PAD'), ('ENDPAD', 'PAD'), ('ENDPAD', 'PAD'), ('ENDPAD', 'PAD'), ('ENDPAD', 'PAD'), ('ENDPAD', 'PAD'), ('ENDPAD', 'PAD'), ('ENDPAD', 'PAD'), ('ENDPAD', 'PAD'), ('ENDPAD', 'PAD'), ('ENDPAD', 'PAD'), ('ENDPAD', 'PAD'), ('ENDPAD', 'PAD'), ('ENDPAD', 'PAD'), ('ENDPAD', 'PAD'), ('ENDPAD', 'PAD'), ('ENDPAD', 'PAD'), ('ENDPAD', 'PAD'), ('ENDPAD', 'PAD'), ('ENDPAD', 'PAD'), ('ENDPAD', 'PAD'), ('ENDPAD', 'PAD'), ('ENDPAD', 'PAD'), ('ENDPAD', 'PAD'), ('ENDPAD', 'PAD'), ('ENDPAD', 'PAD'), ('ENDPAD', 'PAD'), ('ENDPAD', 'PAD'), ('ENDPAD', 'PAD'), ('ENDPAD', 'PAD'), ('ENDPAD', 'PAD'), ('ENDPAD', 'PAD'), ('ENDPAD', 'PAD'), ('ENDPAD', 'PAD'), ('ENDPAD', 'PAD')]\n",
            "[('Pakistani', 'B-gpe'), ('President', 'B-per'), ('Pervez', 'B-geo'), ('Musharraf', 'B-per'), ('has', 'O'), ('dismissed', 'O'), ('opposition', 'O'), ('protests', 'O'), ('over', 'O'), ('the', 'O'), ('suspension', 'O'), ('of', 'O'), ('the', 'O'), ('country', 'O'), (\"'s\", 'O'), ('top', 'O'), ('judge', 'O'), (',', 'O'), ('saying', 'O'), ('his', 'O'), ('critics', 'O'), ('are', 'O'), ('trying', 'O'), ('to', 'O'), ('politicize', 'O'), ('a', 'O'), ('constitutional', 'O'), ('and', 'O'), ('judicial', 'O'), ('issue', 'O'), ('.', 'O'), ('ENDPAD', 'PAD'), ('ENDPAD', 'PAD'), ('ENDPAD', 'PAD'), ('ENDPAD', 'PAD'), ('ENDPAD', 'PAD'), ('ENDPAD', 'PAD'), ('ENDPAD', 'PAD'), ('ENDPAD', 'PAD'), ('ENDPAD', 'PAD'), ('ENDPAD', 'PAD'), ('ENDPAD', 'PAD'), ('ENDPAD', 'PAD'), ('ENDPAD', 'PAD'), ('ENDPAD', 'PAD'), ('ENDPAD', 'PAD'), ('ENDPAD', 'PAD'), ('ENDPAD', 'PAD'), ('ENDPAD', 'PAD'), ('ENDPAD', 'PAD'), ('ENDPAD', 'PAD'), ('ENDPAD', 'PAD'), ('ENDPAD', 'PAD'), ('ENDPAD', 'PAD'), ('ENDPAD', 'PAD'), ('ENDPAD', 'PAD'), ('ENDPAD', 'PAD'), ('ENDPAD', 'PAD'), ('ENDPAD', 'PAD'), ('ENDPAD', 'PAD'), ('ENDPAD', 'PAD'), ('ENDPAD', 'PAD'), ('ENDPAD', 'PAD'), ('ENDPAD', 'PAD'), ('ENDPAD', 'PAD'), ('ENDPAD', 'PAD'), ('ENDPAD', 'PAD'), ('ENDPAD', 'PAD'), ('ENDPAD', 'PAD'), ('ENDPAD', 'PAD'), ('ENDPAD', 'PAD'), ('ENDPAD', 'PAD'), ('ENDPAD', 'PAD'), ('ENDPAD', 'PAD'), ('ENDPAD', 'PAD'), ('ENDPAD', 'PAD'), ('ENDPAD', 'PAD'), ('ENDPAD', 'PAD'), ('ENDPAD', 'PAD'), ('ENDPAD', 'PAD'), ('ENDPAD', 'PAD'), ('ENDPAD', 'PAD'), ('ENDPAD', 'PAD'), ('ENDPAD', 'PAD'), ('ENDPAD', 'PAD'), ('ENDPAD', 'PAD'), ('ENDPAD', 'PAD'), ('ENDPAD', 'PAD'), ('ENDPAD', 'PAD'), ('ENDPAD', 'PAD'), ('ENDPAD', 'PAD'), ('ENDPAD', 'PAD'), ('ENDPAD', 'PAD'), ('ENDPAD', 'PAD'), ('ENDPAD', 'PAD'), ('ENDPAD', 'PAD'), ('ENDPAD', 'PAD'), ('ENDPAD', 'PAD'), ('ENDPAD', 'PAD'), ('ENDPAD', 'PAD'), ('ENDPAD', 'PAD'), ('ENDPAD', 'PAD'), ('ENDPAD', 'PAD'), ('ENDPAD', 'PAD')]\n",
            "[('Mr.', 'B-per'), ('Medvedev', 'I-per'), ('and', 'O'), ('U.S.', 'B-org'), ('President', 'B-per'), ('Barack', 'I-per'), ('Obama', 'I-per'), ('signed', 'O'), ('the', 'O'), ('treaty', 'O'), ('last', 'O'), ('month', 'O'), ('in', 'O'), ('the', 'O'), ('Czech', 'B-gpe'), ('capital', 'O'), (',', 'O'), ('Prague', 'B-org'), ('.', 'O'), ('ENDPAD', 'PAD'), ('ENDPAD', 'PAD'), ('ENDPAD', 'PAD'), ('ENDPAD', 'PAD'), ('ENDPAD', 'PAD'), ('ENDPAD', 'PAD'), ('ENDPAD', 'PAD'), ('ENDPAD', 'PAD'), ('ENDPAD', 'PAD'), ('ENDPAD', 'PAD'), ('ENDPAD', 'PAD'), ('ENDPAD', 'PAD'), ('ENDPAD', 'PAD'), ('ENDPAD', 'PAD'), ('ENDPAD', 'PAD'), ('ENDPAD', 'PAD'), ('ENDPAD', 'PAD'), ('ENDPAD', 'PAD'), ('ENDPAD', 'PAD'), ('ENDPAD', 'PAD'), ('ENDPAD', 'PAD'), ('ENDPAD', 'PAD'), ('ENDPAD', 'PAD'), ('ENDPAD', 'PAD'), ('ENDPAD', 'PAD'), ('ENDPAD', 'PAD'), ('ENDPAD', 'PAD'), ('ENDPAD', 'PAD'), ('ENDPAD', 'PAD'), ('ENDPAD', 'PAD'), ('ENDPAD', 'PAD'), ('ENDPAD', 'PAD'), ('ENDPAD', 'PAD'), ('ENDPAD', 'PAD'), ('ENDPAD', 'PAD'), ('ENDPAD', 'PAD'), ('ENDPAD', 'PAD'), ('ENDPAD', 'PAD'), ('ENDPAD', 'PAD'), ('ENDPAD', 'PAD'), ('ENDPAD', 'PAD'), ('ENDPAD', 'PAD'), ('ENDPAD', 'PAD'), ('ENDPAD', 'PAD'), ('ENDPAD', 'PAD'), ('ENDPAD', 'PAD'), ('ENDPAD', 'PAD'), ('ENDPAD', 'PAD'), ('ENDPAD', 'PAD'), ('ENDPAD', 'PAD'), ('ENDPAD', 'PAD'), ('ENDPAD', 'PAD'), ('ENDPAD', 'PAD'), ('ENDPAD', 'PAD'), ('ENDPAD', 'PAD'), ('ENDPAD', 'PAD'), ('ENDPAD', 'PAD'), ('ENDPAD', 'PAD'), ('ENDPAD', 'PAD'), ('ENDPAD', 'PAD'), ('ENDPAD', 'PAD'), ('ENDPAD', 'PAD'), ('ENDPAD', 'PAD'), ('ENDPAD', 'PAD'), ('ENDPAD', 'PAD'), ('ENDPAD', 'PAD'), ('ENDPAD', 'PAD'), ('ENDPAD', 'PAD'), ('ENDPAD', 'PAD'), ('ENDPAD', 'PAD'), ('ENDPAD', 'PAD'), ('ENDPAD', 'PAD'), ('ENDPAD', 'PAD'), ('ENDPAD', 'PAD'), ('ENDPAD', 'PAD'), ('ENDPAD', 'PAD'), ('ENDPAD', 'PAD'), ('ENDPAD', 'PAD'), ('ENDPAD', 'PAD'), ('ENDPAD', 'PAD'), ('ENDPAD', 'PAD'), ('ENDPAD', 'PAD'), ('ENDPAD', 'PAD'), ('ENDPAD', 'PAD'), ('ENDPAD', 'PAD')]\n",
            "[('Mr.', 'B-per'), ('Medvedev', 'B-per'), ('and', 'O'), ('U.S.', 'B-geo'), ('President', 'B-per'), ('Barack', 'B-geo'), ('Obama', 'B-per'), ('signed', 'O'), ('the', 'O'), ('treaty', 'O'), ('last', 'O'), ('month', 'O'), ('in', 'O'), ('the', 'O'), ('Czech', 'B-gpe'), ('capital', 'O'), (',', 'O'), ('Prague', 'B-per'), ('.', 'O'), ('ENDPAD', 'PAD'), ('ENDPAD', 'PAD'), ('ENDPAD', 'PAD'), ('ENDPAD', 'PAD'), ('ENDPAD', 'PAD'), ('ENDPAD', 'PAD'), ('ENDPAD', 'PAD'), ('ENDPAD', 'PAD'), ('ENDPAD', 'PAD'), ('ENDPAD', 'PAD'), ('ENDPAD', 'PAD'), ('ENDPAD', 'PAD'), ('ENDPAD', 'PAD'), ('ENDPAD', 'PAD'), ('ENDPAD', 'PAD'), ('ENDPAD', 'PAD'), ('ENDPAD', 'PAD'), ('ENDPAD', 'PAD'), ('ENDPAD', 'PAD'), ('ENDPAD', 'PAD'), ('ENDPAD', 'PAD'), ('ENDPAD', 'PAD'), ('ENDPAD', 'PAD'), ('ENDPAD', 'PAD'), ('ENDPAD', 'PAD'), ('ENDPAD', 'PAD'), ('ENDPAD', 'PAD'), ('ENDPAD', 'PAD'), ('ENDPAD', 'PAD'), ('ENDPAD', 'PAD'), ('ENDPAD', 'PAD'), ('ENDPAD', 'PAD'), ('ENDPAD', 'PAD'), ('ENDPAD', 'PAD'), ('ENDPAD', 'PAD'), ('ENDPAD', 'PAD'), ('ENDPAD', 'PAD'), ('ENDPAD', 'PAD'), ('ENDPAD', 'PAD'), ('ENDPAD', 'PAD'), ('ENDPAD', 'PAD'), ('ENDPAD', 'PAD'), ('ENDPAD', 'PAD'), ('ENDPAD', 'PAD'), ('ENDPAD', 'PAD'), ('ENDPAD', 'PAD'), ('ENDPAD', 'PAD'), ('ENDPAD', 'PAD'), ('ENDPAD', 'PAD'), ('ENDPAD', 'PAD'), ('ENDPAD', 'PAD'), ('ENDPAD', 'PAD'), ('ENDPAD', 'PAD'), ('ENDPAD', 'PAD'), ('ENDPAD', 'PAD'), ('ENDPAD', 'PAD'), ('ENDPAD', 'PAD'), ('ENDPAD', 'PAD'), ('ENDPAD', 'PAD'), ('ENDPAD', 'PAD'), ('ENDPAD', 'PAD'), ('ENDPAD', 'PAD'), ('ENDPAD', 'PAD'), ('ENDPAD', 'PAD'), ('ENDPAD', 'PAD'), ('ENDPAD', 'PAD'), ('ENDPAD', 'PAD'), ('ENDPAD', 'PAD'), ('ENDPAD', 'PAD'), ('ENDPAD', 'PAD'), ('ENDPAD', 'PAD'), ('ENDPAD', 'PAD'), ('ENDPAD', 'PAD'), ('ENDPAD', 'PAD'), ('ENDPAD', 'PAD'), ('ENDPAD', 'PAD'), ('ENDPAD', 'PAD'), ('ENDPAD', 'PAD'), ('ENDPAD', 'PAD'), ('ENDPAD', 'PAD'), ('ENDPAD', 'PAD'), ('ENDPAD', 'PAD'), ('ENDPAD', 'PAD'), ('ENDPAD', 'PAD'), ('ENDPAD', 'PAD')]\n",
            "[('The', 'O'), ('State', 'B-org'), ('Department', 'I-org'), ('says', 'O'), ('Clinton', 'B-per'), ('will', 'O'), ('begin', 'O'), ('her', 'O'), ('seven-nation', 'O'), ('trip', 'O'), ('August', 'B-tim'), ('5', 'I-tim'), (',', 'O'), ('when', 'O'), ('she', 'O'), ('attends', 'O'), ('the', 'O'), ('U.S.-Sub', 'B-geo'), ('Saharan', 'I-geo'), ('Africa', 'I-geo'), ('Trade', 'O'), ('and', 'O'), ('Economic', 'B-org'), ('Cooperation', 'I-org'), ('Forum', 'I-org'), ('in', 'O'), ('Nairobi', 'B-geo'), (',', 'O'), ('Kenya', 'B-geo'), ('.', 'O'), ('ENDPAD', 'PAD'), ('ENDPAD', 'PAD'), ('ENDPAD', 'PAD'), ('ENDPAD', 'PAD'), ('ENDPAD', 'PAD'), ('ENDPAD', 'PAD'), ('ENDPAD', 'PAD'), ('ENDPAD', 'PAD'), ('ENDPAD', 'PAD'), ('ENDPAD', 'PAD'), ('ENDPAD', 'PAD'), ('ENDPAD', 'PAD'), ('ENDPAD', 'PAD'), ('ENDPAD', 'PAD'), ('ENDPAD', 'PAD'), ('ENDPAD', 'PAD'), ('ENDPAD', 'PAD'), ('ENDPAD', 'PAD'), ('ENDPAD', 'PAD'), ('ENDPAD', 'PAD'), ('ENDPAD', 'PAD'), ('ENDPAD', 'PAD'), ('ENDPAD', 'PAD'), ('ENDPAD', 'PAD'), ('ENDPAD', 'PAD'), ('ENDPAD', 'PAD'), ('ENDPAD', 'PAD'), ('ENDPAD', 'PAD'), ('ENDPAD', 'PAD'), ('ENDPAD', 'PAD'), ('ENDPAD', 'PAD'), ('ENDPAD', 'PAD'), ('ENDPAD', 'PAD'), ('ENDPAD', 'PAD'), ('ENDPAD', 'PAD'), ('ENDPAD', 'PAD'), ('ENDPAD', 'PAD'), ('ENDPAD', 'PAD'), ('ENDPAD', 'PAD'), ('ENDPAD', 'PAD'), ('ENDPAD', 'PAD'), ('ENDPAD', 'PAD'), ('ENDPAD', 'PAD'), ('ENDPAD', 'PAD'), ('ENDPAD', 'PAD'), ('ENDPAD', 'PAD'), ('ENDPAD', 'PAD'), ('ENDPAD', 'PAD'), ('ENDPAD', 'PAD'), ('ENDPAD', 'PAD'), ('ENDPAD', 'PAD'), ('ENDPAD', 'PAD'), ('ENDPAD', 'PAD'), ('ENDPAD', 'PAD'), ('ENDPAD', 'PAD'), ('ENDPAD', 'PAD'), ('ENDPAD', 'PAD'), ('ENDPAD', 'PAD'), ('ENDPAD', 'PAD'), ('ENDPAD', 'PAD'), ('ENDPAD', 'PAD'), ('ENDPAD', 'PAD'), ('ENDPAD', 'PAD'), ('ENDPAD', 'PAD'), ('ENDPAD', 'PAD'), ('ENDPAD', 'PAD'), ('ENDPAD', 'PAD'), ('ENDPAD', 'PAD'), ('ENDPAD', 'PAD'), ('ENDPAD', 'PAD'), ('ENDPAD', 'PAD'), ('ENDPAD', 'PAD'), ('ENDPAD', 'PAD'), ('ENDPAD', 'PAD')]\n",
            "[('The', 'O'), ('State', 'B-org'), ('Department', 'I-org'), ('says', 'O'), ('Clinton', 'B-per'), ('will', 'O'), ('begin', 'O'), ('her', 'O'), ('seven-nation', 'O'), ('trip', 'O'), ('August', 'B-tim'), ('5', 'O'), (',', 'O'), ('when', 'O'), ('she', 'O'), ('attends', 'B-art'), ('the', 'O'), ('U.S.-Sub', 'B-org'), ('Saharan', 'B-per'), ('Africa', 'B-geo'), ('Trade', 'O'), ('and', 'O'), ('Economic', 'O'), ('Cooperation', 'B-org'), ('Forum', 'B-per'), ('in', 'O'), ('Nairobi', 'B-geo'), (',', 'O'), ('Kenya', 'B-geo'), ('.', 'O'), ('ENDPAD', 'PAD'), ('ENDPAD', 'PAD'), ('ENDPAD', 'PAD'), ('ENDPAD', 'PAD'), ('ENDPAD', 'PAD'), ('ENDPAD', 'PAD'), ('ENDPAD', 'PAD'), ('ENDPAD', 'PAD'), ('ENDPAD', 'PAD'), ('ENDPAD', 'PAD'), ('ENDPAD', 'PAD'), ('ENDPAD', 'PAD'), ('ENDPAD', 'PAD'), ('ENDPAD', 'PAD'), ('ENDPAD', 'PAD'), ('ENDPAD', 'PAD'), ('ENDPAD', 'PAD'), ('ENDPAD', 'PAD'), ('ENDPAD', 'PAD'), ('ENDPAD', 'PAD'), ('ENDPAD', 'PAD'), ('ENDPAD', 'PAD'), ('ENDPAD', 'PAD'), ('ENDPAD', 'PAD'), ('ENDPAD', 'PAD'), ('ENDPAD', 'PAD'), ('ENDPAD', 'PAD'), ('ENDPAD', 'PAD'), ('ENDPAD', 'PAD'), ('ENDPAD', 'PAD'), ('ENDPAD', 'PAD'), ('ENDPAD', 'PAD'), ('ENDPAD', 'PAD'), ('ENDPAD', 'PAD'), ('ENDPAD', 'PAD'), ('ENDPAD', 'PAD'), ('ENDPAD', 'PAD'), ('ENDPAD', 'PAD'), ('ENDPAD', 'PAD'), ('ENDPAD', 'PAD'), ('ENDPAD', 'PAD'), ('ENDPAD', 'PAD'), ('ENDPAD', 'PAD'), ('ENDPAD', 'PAD'), ('ENDPAD', 'PAD'), ('ENDPAD', 'PAD'), ('ENDPAD', 'PAD'), ('ENDPAD', 'PAD'), ('ENDPAD', 'PAD'), ('ENDPAD', 'PAD'), ('ENDPAD', 'PAD'), ('ENDPAD', 'PAD'), ('ENDPAD', 'PAD'), ('ENDPAD', 'PAD'), ('ENDPAD', 'PAD'), ('ENDPAD', 'PAD'), ('ENDPAD', 'PAD'), ('ENDPAD', 'PAD'), ('ENDPAD', 'PAD'), ('ENDPAD', 'PAD'), ('ENDPAD', 'PAD'), ('ENDPAD', 'PAD'), ('ENDPAD', 'PAD'), ('ENDPAD', 'PAD'), ('ENDPAD', 'PAD'), ('ENDPAD', 'PAD'), ('ENDPAD', 'PAD'), ('ENDPAD', 'PAD'), ('ENDPAD', 'PAD'), ('ENDPAD', 'PAD'), ('ENDPAD', 'PAD'), ('ENDPAD', 'PAD'), ('ENDPAD', 'PAD'), ('ENDPAD', 'PAD')]\n",
            "[('When', 'O'), ('the', 'O'), ('Peasant', 'O'), ('rose', 'O'), ('in', 'O'), ('pursuit', 'O'), (',', 'O'), ('the', 'O'), ('Eagle', 'O'), ('let', 'O'), ('the', 'O'), ('bundle', 'O'), ('fall', 'O'), ('again', 'O'), ('.', 'O'), ('ENDPAD', 'PAD'), ('ENDPAD', 'PAD'), ('ENDPAD', 'PAD'), ('ENDPAD', 'PAD'), ('ENDPAD', 'PAD'), ('ENDPAD', 'PAD'), ('ENDPAD', 'PAD'), ('ENDPAD', 'PAD'), ('ENDPAD', 'PAD'), ('ENDPAD', 'PAD'), ('ENDPAD', 'PAD'), ('ENDPAD', 'PAD'), ('ENDPAD', 'PAD'), ('ENDPAD', 'PAD'), ('ENDPAD', 'PAD'), ('ENDPAD', 'PAD'), ('ENDPAD', 'PAD'), ('ENDPAD', 'PAD'), ('ENDPAD', 'PAD'), ('ENDPAD', 'PAD'), ('ENDPAD', 'PAD'), ('ENDPAD', 'PAD'), ('ENDPAD', 'PAD'), ('ENDPAD', 'PAD'), ('ENDPAD', 'PAD'), ('ENDPAD', 'PAD'), ('ENDPAD', 'PAD'), ('ENDPAD', 'PAD'), ('ENDPAD', 'PAD'), ('ENDPAD', 'PAD'), ('ENDPAD', 'PAD'), ('ENDPAD', 'PAD'), ('ENDPAD', 'PAD'), ('ENDPAD', 'PAD'), ('ENDPAD', 'PAD'), ('ENDPAD', 'PAD'), ('ENDPAD', 'PAD'), ('ENDPAD', 'PAD'), ('ENDPAD', 'PAD'), ('ENDPAD', 'PAD'), ('ENDPAD', 'PAD'), ('ENDPAD', 'PAD'), ('ENDPAD', 'PAD'), ('ENDPAD', 'PAD'), ('ENDPAD', 'PAD'), ('ENDPAD', 'PAD'), ('ENDPAD', 'PAD'), ('ENDPAD', 'PAD'), ('ENDPAD', 'PAD'), ('ENDPAD', 'PAD'), ('ENDPAD', 'PAD'), ('ENDPAD', 'PAD'), ('ENDPAD', 'PAD'), ('ENDPAD', 'PAD'), ('ENDPAD', 'PAD'), ('ENDPAD', 'PAD'), ('ENDPAD', 'PAD'), ('ENDPAD', 'PAD'), ('ENDPAD', 'PAD'), ('ENDPAD', 'PAD'), ('ENDPAD', 'PAD'), ('ENDPAD', 'PAD'), ('ENDPAD', 'PAD'), ('ENDPAD', 'PAD'), ('ENDPAD', 'PAD'), ('ENDPAD', 'PAD'), ('ENDPAD', 'PAD'), ('ENDPAD', 'PAD'), ('ENDPAD', 'PAD'), ('ENDPAD', 'PAD'), ('ENDPAD', 'PAD'), ('ENDPAD', 'PAD'), ('ENDPAD', 'PAD'), ('ENDPAD', 'PAD'), ('ENDPAD', 'PAD'), ('ENDPAD', 'PAD'), ('ENDPAD', 'PAD'), ('ENDPAD', 'PAD'), ('ENDPAD', 'PAD'), ('ENDPAD', 'PAD'), ('ENDPAD', 'PAD'), ('ENDPAD', 'PAD'), ('ENDPAD', 'PAD'), ('ENDPAD', 'PAD'), ('ENDPAD', 'PAD'), ('ENDPAD', 'PAD'), ('ENDPAD', 'PAD'), ('ENDPAD', 'PAD'), ('ENDPAD', 'PAD')]\n",
            "[('When', 'O'), ('the', 'O'), ('Peasant', 'O'), ('rose', 'O'), ('in', 'O'), ('pursuit', 'O'), (',', 'O'), ('the', 'O'), ('Eagle', 'B-org'), ('let', 'O'), ('the', 'O'), ('bundle', 'O'), ('fall', 'O'), ('again', 'O'), ('.', 'O'), ('ENDPAD', 'PAD'), ('ENDPAD', 'PAD'), ('ENDPAD', 'PAD'), ('ENDPAD', 'PAD'), ('ENDPAD', 'PAD'), ('ENDPAD', 'PAD'), ('ENDPAD', 'PAD'), ('ENDPAD', 'PAD'), ('ENDPAD', 'PAD'), ('ENDPAD', 'PAD'), ('ENDPAD', 'PAD'), ('ENDPAD', 'PAD'), ('ENDPAD', 'PAD'), ('ENDPAD', 'PAD'), ('ENDPAD', 'PAD'), ('ENDPAD', 'PAD'), ('ENDPAD', 'PAD'), ('ENDPAD', 'PAD'), ('ENDPAD', 'PAD'), ('ENDPAD', 'PAD'), ('ENDPAD', 'PAD'), ('ENDPAD', 'PAD'), ('ENDPAD', 'PAD'), ('ENDPAD', 'PAD'), ('ENDPAD', 'PAD'), ('ENDPAD', 'PAD'), ('ENDPAD', 'PAD'), ('ENDPAD', 'PAD'), ('ENDPAD', 'PAD'), ('ENDPAD', 'PAD'), ('ENDPAD', 'PAD'), ('ENDPAD', 'PAD'), ('ENDPAD', 'PAD'), ('ENDPAD', 'PAD'), ('ENDPAD', 'PAD'), ('ENDPAD', 'PAD'), ('ENDPAD', 'PAD'), ('ENDPAD', 'PAD'), ('ENDPAD', 'PAD'), ('ENDPAD', 'PAD'), ('ENDPAD', 'PAD'), ('ENDPAD', 'PAD'), ('ENDPAD', 'PAD'), ('ENDPAD', 'PAD'), ('ENDPAD', 'PAD'), ('ENDPAD', 'PAD'), ('ENDPAD', 'PAD'), ('ENDPAD', 'PAD'), ('ENDPAD', 'PAD'), ('ENDPAD', 'PAD'), ('ENDPAD', 'PAD'), ('ENDPAD', 'PAD'), ('ENDPAD', 'PAD'), ('ENDPAD', 'PAD'), ('ENDPAD', 'PAD'), ('ENDPAD', 'PAD'), ('ENDPAD', 'PAD'), ('ENDPAD', 'PAD'), ('ENDPAD', 'PAD'), ('ENDPAD', 'PAD'), ('ENDPAD', 'PAD'), ('ENDPAD', 'PAD'), ('ENDPAD', 'PAD'), ('ENDPAD', 'PAD'), ('ENDPAD', 'PAD'), ('ENDPAD', 'PAD'), ('ENDPAD', 'PAD'), ('ENDPAD', 'PAD'), ('ENDPAD', 'PAD'), ('ENDPAD', 'PAD'), ('ENDPAD', 'PAD'), ('ENDPAD', 'PAD'), ('ENDPAD', 'PAD'), ('ENDPAD', 'PAD'), ('ENDPAD', 'PAD'), ('ENDPAD', 'PAD'), ('ENDPAD', 'PAD'), ('ENDPAD', 'PAD'), ('ENDPAD', 'PAD'), ('ENDPAD', 'PAD'), ('ENDPAD', 'PAD'), ('ENDPAD', 'PAD'), ('ENDPAD', 'PAD'), ('ENDPAD', 'PAD'), ('ENDPAD', 'PAD'), ('ENDPAD', 'PAD'), ('ENDPAD', 'PAD'), ('ENDPAD', 'PAD'), ('ENDPAD', 'PAD')]\n"
          ],
          "name": "stdout"
        }
      ]
    },
    {
      "cell_type": "code",
      "metadata": {
        "id": "VPQJyVQoL83X"
      },
      "source": [
        "from sklearn.metrics import multilabel_confusion_matrix\n",
        "import seaborn as sns\n",
        "import math"
      ],
      "execution_count": null,
      "outputs": []
    },
    {
      "cell_type": "code",
      "metadata": {
        "id": "vXr2u_ZJB7b5"
      },
      "source": [
        "# Your code here\n",
        "# Plot the F1-score of the model per tag\n",
        "def get_f1score(X,y,model):\n",
        "  y_pred=[np.argmax(i) for j in model.predict(X) for i in j]\n",
        "  y_actual=[np.argmax(i) for j in y for i in j]\n",
        "  conf_mat=multilabel_confusion_matrix(y_actual,y_pred)\n",
        "  conf_dict=dict(zip(tags,conf_mat))\n",
        "  f1_dict={}\n",
        "  for i in tags:\n",
        "    tp=conf_dict[i][1,1]\n",
        "    fp=conf_dict[i][0,1]\n",
        "    tn=conf_dict[i][0,0]\n",
        "    fn=conf_dict[i][1,0]\n",
        "    prec=tp/(tp+fp)\n",
        "    rec=tp/(tp+fn)\n",
        "    f1=2*prec*rec/(prec+rec)\n",
        "    if math.isnan(f1):\n",
        "      f1_dict[i]=0\n",
        "    else:\n",
        "      f1_dict[i]=f1\n",
        "  fig1=plt.figure(figsize=(14,7))\n",
        "  sns.barplot(x=list(f1_dict.values()), y=list(f1_dict.keys()),orient='h')\n",
        "  plt.title('F1 Score for each Tag')\n",
        "  plt.xlabel('F1 score',fontsize=15)\n",
        "  plt.ylabel('Tags',fontsize=15)\n",
        "  return f1_dict"
      ],
      "execution_count": null,
      "outputs": []
    },
    {
      "cell_type": "code",
      "metadata": {
        "colab": {
          "base_uri": "https://localhost:8080/",
          "height": 464
        },
        "id": "PRrtNoXPcADB",
        "outputId": "0134fdf2-b4c9-43dc-812f-7c8dae744b31"
      },
      "source": [
        "f1_dict=get_f1score(X_test,y_test,model)"
      ],
      "execution_count": null,
      "outputs": [
        {
          "output_type": "display_data",
          "data": {
            "image/png": "[encoded data removed]",
            "text/plain": [
              "<Figure size 1008x504 with 1 Axes>"
            ]
          },
          "metadata": {
            "tags": []
          }
        }
      ]
    },
    {
      "cell_type": "markdown",
      "metadata": {
        "id": "hK0Yv4DgB7b5"
      },
      "source": [
        "**Your answer here**"
      ]
    },
    {
      "cell_type": "markdown",
      "metadata": {
        "id": "93gWCv7UB7b5"
      },
      "source": [
        "<div class=\"alert alert-block alert-danger\" style=\"color:black;background-color:#EFF8D0\">\n",
        "\n",
        "### **1.4 [5 points] HOMEWORK QUIZ**\n",
        "<br />\n",
        "After attempting this part of the homework, answer the questions on edStem. All the questions depend on this part of the homework and you will not be able to answer them without attempting this part.\n",
        "<br /><br />\n",
        "</div>"
      ]
    },
    {
      "cell_type": "markdown",
      "metadata": {
        "id": "OXA-BwXGB7b6"
      },
      "source": [
        "#### Answer the questions on EdStem"
      ]
    },
    {
      "cell_type": "markdown",
      "metadata": {
        "id": "gqr9t_FaB7b6"
      },
      "source": [
        "___\n",
        "___\n"
      ]
    },
    {
      "cell_type": "markdown",
      "metadata": {
        "id": "O-ZreP3wB7b6"
      },
      "source": [
        "<div class=\"alert alert-block alert-danger\" style=\"color:black;background-color:#EFF8D0\">\n",
        "    \n",
        "## **PART 2 [65 points]: IMDB Sentiment Analysis using ELMo**\n",
        "<br />    \n",
        "Sentiment analysis, also known as opinion mining or emotion AI, is the use of natural language processing, text analysis, computational linguistics, and biometrics to systematically identify, extract, quantify, and study affective states and subjective information.\n",
        "    \n",
        "For this part of the homework, we will be using the IMDB dataset, which is publicly available [here](http://ai.stanford.edu/~amaas/data/sentiment/).    \n",
        "\n",
        "This represents a \"many-to-one\" problem, with the output classified as a `positive` or `negative` sentiment, depending on the words used in the review.\n",
        "    \n",
        "    \n",
        "In the first part of this section, you are expected to build a language model to train a basic ELMo.\n",
        "    \n",
        "Although the original ELMo implementation uses *Character Embeddings*, for the sake of this homework, we will use word embeddings instead.\n",
        "    \n",
        "Read more about the ELMo paper [here](https://arxiv.org/pdf/1802.05365.pdf).\n",
        "\n",
        "In the second part of this subsection, you will use the generated ELMo embeddings in a deep learning model to perform sentiment analysis using the IMDB dataset. \n",
        "    \n",
        "You will compare its performance, with a baseline model without any trained embeddings, and another model which directly uses the `word2vec` embeddings.\n",
        "\n",
        "<br />\n",
        "</div>"
      ]
    },
    {
      "cell_type": "markdown",
      "metadata": {
        "id": "iZOVTbi5B7b7"
      },
      "source": [
        "<div class=\"alert alert-block alert-danger\" style=\"color:black;background-color:#EFF8D0\">\n",
        "\n",
        "### **2.1 [20 points] PREPROCESS THE DATASET**\n",
        "<br />\n",
        "    \n",
        "**2.1.1** - Load the dataset\n",
        "\n",
        "For simplicity, we will use the training split of the IMDB dataset.\n",
        "- Limit to the most frequent 5000 words.\n",
        "- Do not skip any frequently occuring words.\n",
        "- Limit the largest review to a maximum of 200 words only. \n",
        "    \n",
        "    \n",
        "**NOTE**: You can use the `imdb.get_word_index()` to get the mapping between tokens and words. This will load a dictionary with the mappings, which has to be corrected. Helper code provided below to fix the dictionary.\n",
        "    \n",
        "Read more about `tf.keras.datasets.imdb` [here](https://www.tensorflow.org/api_docs/python/tf/keras/datasets/imdb/load_data?version=nightly).    \n",
        "    \n",
        "To each review, you must add an end of sentence token \\<\\/s\\> .\n",
        "\n",
        "Eg. Review: \"\\<s\\> This movie is so bad, I had to leave early\"\n",
        "    \n",
        "Modified review: \"\\<s\\> This movie is so bad, I had to leave early \\<\\/s\\>\"\n",
        "    \n",
        "**2.1.2** - Load the `word2vec` embeddings\n",
        "    \n",
        "You will use the pre-trained `word2vec` embeddings for this section of the homework. This file is provided to you and can be accessed like a dictionary.\n",
        "    \n",
        "Add the \\<s\\> and\\</s\\> tokens to the `word2vec` embeddings as random vectors.    \n",
        "    \n",
        "**NOTE**: Not all the words in the reviews are present in the embeddings file provided to you. Hence, if it is not present, you must OMIT that word from the sentence.\n",
        "   \n",
        "E.g. If `and` token is not present in the embeddings:\n",
        "   \n",
        "```\n",
        "OLD SENTENCE: <s>The movie was good and I really liked it </s>\n",
        "    \n",
        "NEW SENTENCE: <s> The movie was good I really liked it </s>\n",
        "    \n",
        "``` \n",
        "    \n",
        "<br /><br />\n",
        "    \n",
        "**2.1.3** Create `tf.Dataset` for model training:\n",
        "    \n",
        "- Create another object called `embeddings_list`, which maps the tokens to their `word2vec` representations.    \n",
        "\n",
        "- Split the data (`tokens_list`, `embeddings_list`, `class_list`) into 80% training and 20% validation. We will use the `class_list` (which is the sentiment associated with each movie review) only in Part 2.3 for sentiment analysis.\n",
        "    \n",
        "- Build a `tf.Dataset` for training, and another one for validation.\n",
        "    \n",
        "Define a function to create the dataset. It should have as input the sentences embeddings and the target indices.\n",
        "\n",
        "Instead of preprocessing the entire dataset, we can preprocess a batch. It is faster and consumes less resources, which is optimal for training.\n",
        "\n",
        "`dataset.map` enable us to apply a function to each element of the batch individually. The parameter `num_parallel_calls` allow us to control how many threads we will use to feed the network. This function has to output the tensors that will be used in the training in the correct format.\n",
        "\n",
        "It should output a tuple of two elements.\n",
        "\n",
        "    1. Source sentences for both LSTMs and the length of the sentnce: (`inputs_f`, `inputs_b`, `inputs_N` )\n",
        "    2. Target sentences for both LSTMs: (`target_f`,`target_b`)\n",
        "    \n",
        "For the same sentence, we will need a target for the forward LSTM and one for the backward LSTM.   \n",
        "Hence, make sure to create *two* targets in the dataset, `target_f` and `target_b`.    \n",
        "    \n",
        "\n",
        "Both `inputs_f` and `inputs_b` will be a `Tensor` with dimensions: `(batch_size,length_of_sentence-1,embedding_dimension)`.\n",
        "    \n",
        "Each of the targets,  will be a `Tensor` with dimensions: `(batch_size, length_of_sentence)`.\n",
        "   \n",
        "Please refer to Lab 5, on how to use `tf.Dataset` for language models.     \n",
        "    \n",
        "<br /><br />\n",
        " \n",
        "    \n",
        "### **2.2 [20 points] Define and train the model**\n",
        "    \n",
        "We define an *ELMo-like* language model using bi-directional LSTMs and residual connections  **without** the character CNN to simplify the analysis. \n",
        "    \n",
        "We will use the `word2vec` embeddings instead of the character representations of the CNN.\n",
        "    \n",
        "For simplicity, we train our *ELMo-like* language model on the IMDB dataset itself. But generally, language models are trained on much larger corpuses.    \n",
        "    \n",
        "**2.2.1** Building the language model\n",
        "    \n",
        "The model should have as an input *padded_sentences* followed by a `tf.keras.layers.Masking()` layer.   \n",
        "    \n",
        "After this, you can use the helper code given below to split the input data to feed the *forward* and *backward* LSTMs.\n",
        "    \n",
        "Refer to the image from the session 6 slide on ELMo.\n",
        "    \n",
        "![](./part2images/forward_backward.png) \n",
        "    \n",
        "\n",
        "Remember to use the **same** *softmax* layer ` on both the forward and the backward LSTMs. This will give you an `output_f` and `output_b` which you will evaluate with your two targets.\n",
        "    \n",
        "Refer to the session 6 slides for more clarity.       \n",
        "\n",
        "![](./part2images/loss.png)\n",
        "\n",
        "Use an appropriate loss function, and optimizer and train the network sufficiently.    \n",
        "    \n",
        "**2.2.2** Extracting ELMo embeddings\n",
        "    \n",
        "Use the Functional API to build another model called `Toy_ELMo` to obtain the embeddings of the model. \n",
        "\n",
        "    \n",
        "\n",
        "The embeddings obtained should be: \n",
        "    \n",
        "1. The `word2vec` embeddings \n",
        "        \n",
        "    This is just the output after the masked layer in the language model defined above.    \n",
        "    \n",
        "2. The first bidirectional-LSTM layer embeddings \n",
        "\n",
        "    This will be the concatenation of the first LSTM layers of the language model (`h1_f + h1_b`).\n",
        "    \n",
        "3. The second bidirectional-LSTM layer embeddings\n",
        "\n",
        "    This will be the concatenation of the second LSTM layer of the language model (`h2_f + h2_f`).    \n",
        "    \n",
        "You can use the helper code provided in this sub-section to obtain the concatenation of the different embeddings.             \n",
        "    \n",
        "<br /><br />\n",
        "    \n",
        "### **2.3 [20 points] Transfer Learning**\n",
        "<br />\n",
        "    \n",
        "Once you've sufficiently trained your ELMo embeddings, we can use it for a down-stream task such as sentiment analysis.\n",
        "    \n",
        "You have already done sentiment analysis using `tf.keras.layers.Embedding()` in Session 5. You will now aim to beat that baseline using your ELMo embeddings.    \n",
        "    \n",
        "**2.3.1** - Baseline model:\n",
        "    \n",
        "For the baseline model, you will use:\n",
        "    \n",
        "> - `tf.keras.Layers.Embedding()` layer\n",
        "> -  2 layers of `LSTM` with `hidden_size=300` \n",
        "    \n",
        "       \n",
        "Train it for sufficient epochs using an appropriate optimizer and learning rate.\n",
        "    \n",
        "**2.3.2** - Directly using pre-trained `word2vec`:\n",
        "    \n",
        "For this section, use the pre-trained `word2vec` embeddings directly into your model. \n",
        "    \n",
        "You will build a `tf.Dataset` similar to the one created in Section 2.1 but instead of having a target as a series, the target should only be a class (positive or negative sentiment).    \n",
        "    \n",
        "Train, and compare its performance with the baseline model defined above **using the same architecture** as above.\n",
        "    \n",
        "**2.3.3** - Using ELMo embeddings:\n",
        "    \n",
        "    \n",
        "> - Define the same model as above but use the `Toy_ELMo` after the input layer. \n",
        "    \n",
        "**NOTE**: Set `Toy_ELMo.trainable` to `False` to avoid retraining the model. \n",
        "        \n",
        "> - Create the **sauce** layer to combine the three embeddings from your `Toy_ELMo`. You should have **three** trainable parameters in this layer\n",
        "\n",
        "<img src=\"./part2images/sauce.png\" alt=\"drawing\" style=\"width:300px;\"/>    \n",
        "    \n",
        "Since we are not using any other embeddings, we will set the value of $\\gamma$ to 1.     \n",
        "> - Train the modified model sufficiently, and compare it to the previously trained models.\n",
        "\n",
        "<br /><br />\n",
        "    \n",
        "### **2.4 [5 points] HOMEWORK QUIZ**\n",
        "<br />\n",
        "After attempting this part of the homework, answer the questions on edStem. All the questions depend on this part of the homework and you will not be able to answer them without attempting this part.\n",
        "  \n",
        "<br /><br />\n",
        "\n",
        "</div>"
      ]
    },
    {
      "cell_type": "markdown",
      "metadata": {
        "id": "3uXG_yt8B7b9"
      },
      "source": [
        "<div class=\"alert alert-block alert-danger\" style=\"color:black;background-color:#EFF8D0\">\n",
        "\n",
        "## **PART 2: Solutions**    \n",
        "\n",
        "### **2.1 [20 points] PREPROCESS THE DATASET**\n",
        "<br />\n",
        "    \n",
        "**2.1.1** - Load the dataset\n",
        "\n",
        "For simplicity, we will use the training split of the IMDB dataset.\n",
        "- Limit to the most frequent 5000 words.\n",
        "- Do not skip any frequently occuring words.\n",
        "- Limit the largest review to a maximum of 200 words only. \n",
        "    \n",
        "    \n",
        "**NOTE**: You can use the `imdb.get_word_index()` to get the mapping between tokens and words. This will load a dictionary with the mappings, which has to be corrected. Helper code provided below to fix the dictionary.\n",
        "    \n",
        "Read more about `tf.keras.datasets.imdb` [here](https://www.tensorflow.org/api_docs/python/tf/keras/datasets/imdb/load_data?version=nightly).    \n",
        "    \n",
        "To each review, you must add an end of sentence token \\<\\/s\\> .\n",
        "\n",
        "Eg. Review: \"\\<s\\> This movie is so bad, I had to leave early\"\n",
        "    \n",
        "Modified review: \"\\<s\\> This movie is so bad, I had to leave early \\<\\/s\\>\"\n",
        "\n",
        "\n",
        "<br /><br />\n",
        "\n",
        "</div>"
      ]
    },
    {
      "cell_type": "code",
      "metadata": {
        "id": "uW7jN1ruB7b-"
      },
      "source": [
        "### Helper code to fix the mapping of the imdb word index\n",
        "index = imdb.get_word_index()\n",
        "# we need to add 3 from the indices because 0 is 'padding', 1 is 'start of sequence' and 2 is 'unknown'\n",
        "inv_index = { j+3:i for i,j in index.items()}\n",
        "\n",
        "# Tags for start and end of sentence\n",
        "inv_index[1] = '<s>' \n",
        "inv_index[3] = '</s>'\n",
        "\n",
        "index = { j:i for i,j in inv_index.items()}"
      ],
      "execution_count": null,
      "outputs": []
    },
    {
      "cell_type": "code",
      "metadata": {
        "id": "J2AuZLpwB7b_"
      },
      "source": [
        "# Your code here"
      ],
      "execution_count": null,
      "outputs": []
    },
    {
      "cell_type": "markdown",
      "metadata": {
        "id": "FDSHeeuoB7cA"
      },
      "source": [
        "<div class=\"alert alert-block alert-danger\" style=\"color:black;background-color:#EFF8D0\">\n",
        "    \n",
        "**2.1.2** - Load the `word2vec` embeddings\n",
        "    \n",
        "You will use the pre-trained `word2vec` embeddings for this section of the homework. This file is provided to you and can be accessed like a dictionary.\n",
        "    \n",
        "Add the \\<s\\> and\\</s\\> tokens to the `word2vec` embeddings as random vectors.    \n",
        "    \n",
        "**NOTE**: Not all the words in the reviews are present in the embeddings file provided to you. Hence, if it is not present, you must OMIT that word from the sentence.\n",
        "   \n",
        "E.g. If `and` token is not present in the embeddings:\n",
        "   \n",
        "```\n",
        "OLD SENTENCE: <s>The movie was good and I really liked it </s>\n",
        "    \n",
        "NEW SENTENCE: <s> The movie was good I really liked it </s>\n",
        "    \n",
        "``` \n",
        "        \n",
        "    \n",
        "<br />    \n",
        "\n",
        "\n",
        "</div>"
      ]
    },
    {
      "cell_type": "code",
      "metadata": {
        "id": "PGD3y8asB7cC"
      },
      "source": [
        "\n",
        "# Your code here\n"
      ],
      "execution_count": null,
      "outputs": []
    },
    {
      "cell_type": "markdown",
      "metadata": {
        "id": "tAp1EJLWB7cC"
      },
      "source": [
        "<div class=\"alert alert-block alert-danger\" style=\"color:black;background-color:#EFF8D0\">\n",
        "        \n",
        "    \n",
        "**2.1.3** Create `tf.Dataset` for model training:\n",
        "    \n",
        "- Create another object called `embeddings_list`, which maps the tokens to their `word2vec` representations.    \n",
        "\n",
        "- Split the data (`tokens_list`, `embeddings_list`, `class_list`) into 80% training and 20% validation. We will use the `class_list` (which is the sentiment associated with each movie review) only in Part 2.3 for sentiment analysis.\n",
        "    \n",
        "- Build a `tf.Dataset` for training, and another one for validation.\n",
        "    \n",
        "Define a function to create the dataset. It should have as input the sentences embeddings and the target indices.\n",
        "\n",
        "Instead of preprocessing the entire dataset, we can preprocess a batch. It is faster and consumes less resources, which is optimal for training.\n",
        "\n",
        "`dataset.map` enable us to apply a function to each element of the batch individually. The parameter `num_parallel_calls` allow us to control how many threads we will use to feed the network. This function has to output the tensors that will be used in the training in the correct format.\n",
        "\n",
        "It should output a tuple of two elements.\n",
        "\n",
        "    1. Source sentences for both LSTMs and the length of the sentnce: (`inputs_f`, `inputs_b`, `inputs_N` )\n",
        "    2. Target sentences for both LSTMs: (`target_f`,`target_b`)\n",
        "    \n",
        "For the same sentence, we will need a target for the forward LSTM and one for the backward LSTM.   \n",
        "Hence, make sure to create *two* targets in the dataset, `target_f` and `target_b`.    \n",
        "    \n",
        "\n",
        "Both `inputs_f` and `inputs_b` will be a `Tensor` with dimensions: `(batch_size,length_of_sentence-1,embedding_dimension)`.\n",
        "    \n",
        "Each of the targets,  will be a `Tensor` with dimensions: `(batch_size, length_of_sentence)`.\n",
        "   \n",
        "Please refer to Lab 5, on how to use `tf.Dataset` for language models.       \n",
        "        \n",
        "<br /><br />\n",
        "\n",
        "</div>"
      ]
    },
    {
      "cell_type": "code",
      "metadata": {
        "id": "0EonFDAGB7cE"
      },
      "source": [
        "# Helper code\n",
        "\n",
        "# Fill the required cells to complete the function\n",
        "def transform_pad(input_tensor, input_target, input_N):\n",
        "    # Transform the input for the f and b LSTM\n",
        "    input_f  = ___\n",
        "    input_b  = ___\n",
        "    \n",
        "    # Transform the target for the f and b LSTM\n",
        "    target_f  = ___\n",
        "    target_b  = ___\n",
        "    \n",
        "    # Pad the inputs\n",
        "    input_f  = ___\n",
        "    input_b  = ___\n",
        "    \n",
        "    # Pad the targets\n",
        "    target_f = ___\n",
        "    target_b = ___\n",
        "    \n",
        "    return (input_f, input_b, input_N), (target_f, target_b)\n",
        "\n",
        "def create_dataset(data_in, target_in):\n",
        "   \n",
        "    #Get the length of each sentence\n",
        "    N = ___\n",
        "    tensor_N = tf.constant(N, tf.int32)\n",
        "    \n",
        "    # Create ragged tensors \n",
        "    ragged_input  = tf.ragged.constant(data_in, dtype=tf.float32)\n",
        "    ragged_target = tf.ragged.constant(target_in, tf.int32)\n",
        "\n",
        "    \n",
        "    # Build the dataset and the operations\n",
        "    dataset = tf.data.Dataset.from_tensor_slices((ragged_input, ragged_target, tensor_N))\n",
        "    dataset = dataset.shuffle(1000)\n",
        "    dataset = dataset.batch(256)\n",
        "    \n",
        "# Transform_pad function is defined above; you can change the num_parallel_calls    \n",
        "    dataset = dataset.map(transform_pad, num_parallel_calls=1)\n",
        "    \n",
        "                          \n",
        "    dataset = dataset.prefetch(1)\n",
        "    return dataset"
      ],
      "execution_count": null,
      "outputs": []
    },
    {
      "cell_type": "code",
      "metadata": {
        "id": "VZWbvsVUB7cF"
      },
      "source": [
        "# Your code here\n"
      ],
      "execution_count": null,
      "outputs": []
    },
    {
      "cell_type": "markdown",
      "metadata": {
        "id": "Op0AYMlTB7cF"
      },
      "source": [
        "<div class=\"alert alert-block alert-danger\" style=\"color:black;background-color:#EFF8D0\">\n",
        "    \n",
        "### **2.2 [20 points] Define and train the model**\n",
        "    \n",
        "We define an *ELMo-like* language model using bi-directional LSTMs and residual connections  **without** the character CNN to simplify the analysis. \n",
        "    \n",
        "We will use the `word2vec` embeddings instead of the character representations of the CNN.\n",
        "    \n",
        "For simplicity, we train our *ELMo-like* language model on the IMDB dataset itself. But generally, language models are trained on much larger corpuses.    \n",
        "    \n",
        "**2.2.1** Building the language model\n",
        "    \n",
        "The model should have as an input *padded_sentences* followed by a `tf.keras.layers.Masking()` layer.   \n",
        "    \n",
        "After this, you can use the helper code given below to split the input data to feed the *forward* and *backward* LSTMs.\n",
        "    \n",
        "Refer to the image from the session 6 slide on ELMo.\n",
        "    \n",
        "![](./part2images/forward_backward.png) \n",
        "    \n",
        "\n",
        "Remember to use the **same** *softmax* layer* on both the forward and the backward LSTMs. \n",
        "    \n",
        "This will give you an `output_f` and `output_b` which you will evaluate with your two targets.\n",
        "    \n",
        "Refer to the session 6 slides for more clarity.       \n",
        "\n",
        "![](./part2images/loss.png)\n",
        "\n",
        "Use an appropriate loss function, and optimizer and train the network sufficiently.   \n",
        " \n",
        "<br/>\n",
        "\n",
        "</div>    "
      ]
    },
    {
      "cell_type": "code",
      "metadata": {
        "id": "XogSLsuOB7cG"
      },
      "source": [
        "# Your code here"
      ],
      "execution_count": null,
      "outputs": []
    },
    {
      "cell_type": "markdown",
      "metadata": {
        "id": "qtxIEC-eB7cH"
      },
      "source": [
        "<div class=\"alert alert-block alert-danger\" style=\"color:black;background-color:#EFF8D0\">\n",
        "   \n",
        "\n",
        "**2.2.2** Extracting ELMo embeddings\n",
        "    \n",
        "Use the Functional API to build another model called `Toy_ELMo` to obtain the embeddings of the model. \n",
        "\n",
        "    \n",
        "\n",
        "The embeddings obtained should be: \n",
        "    \n",
        "1. The `word2vec` embeddings \n",
        "        \n",
        "    This is just the output after the masked layer in the language model defined above.    \n",
        "    \n",
        "2. The first bidirectional-LSTM layer embeddings \n",
        "\n",
        "    This will be the concatenation of the first LSTM layers of the language model (`h1_f + h1_b`).\n",
        "    \n",
        "3. The second bidirectional-LSTM layer embeddings\n",
        "\n",
        "    This will be the concatenation of the second LSTM layer of the language model (`h2_f + h2_f`).    \n",
        "    \n",
        "You can use the helper code provided in this sub-section to obtain the concatenation of the different embeddings.             \n",
        "    \n",
        "<br /><br />\n",
        "      \n",
        "\n",
        "</div>    "
      ]
    },
    {
      "cell_type": "code",
      "metadata": {
        "id": "f5DR6slsB7cI"
      },
      "source": [
        "# Helper code\n",
        "# In a sentence <s> t1 t2 t2 t4 </s>\n",
        "#The input of the forward network is  : <s> t1 t2 t2 t4\n",
        "#The input of the backward network is : t1 t2 t2 t4 </s>\n",
        "# The embeddings are shifted one position.\n",
        "\n",
        "# First we remove the embedding corresponding to the </s> token from the backwards hidden states\n",
        "# Assuming that inputs_N contains the length of each sentence\n",
        "# h1_b and h2_b are the hidden states for the first and second backwards LSTMs\n",
        "mask1 = tf.sequence_mask(inputs_N-2, tf.shape(h1_b)[1]) \n",
        "mask2 = tf.math.logical_not(tf.sequence_mask(inputs_N -1,tf.shape(h1_b)[1])) \n",
        "mask = tf.math.logical_or(mask1, mask2)\n",
        "\n",
        "# We invert the backwards embeddings\n",
        "h1_b = h1_b[:,::-1,:]\n",
        "h2_b = h2_b[:,::-1,:]\n",
        "h1_b_m = tf.reshape(h1_b[mask],(tf.shape(h1_b)[0], tf.shape(h1_b)[1]-1, h_size) )\n",
        "h2_b_m = tf.reshape(h2_b[mask],(tf.shape(h2_b)[0], tf.shape(h2_b)[1]-1, h_size) )"
      ],
      "execution_count": null,
      "outputs": []
    },
    {
      "cell_type": "code",
      "metadata": {
        "id": "ylxyDkybB7cI"
      },
      "source": [
        "# Your code here\n"
      ],
      "execution_count": null,
      "outputs": []
    },
    {
      "cell_type": "markdown",
      "metadata": {
        "id": "4c92DJ5vB7cJ"
      },
      "source": [
        "<div class=\"alert alert-block alert-danger\" style=\"color:black;background-color:#EFF8D0\">\n",
        "\n",
        "### **2.3 [20 points] Transfer Learning**\n",
        "<br />\n",
        "    \n",
        "Once you've sufficiently trained your ELMo embeddings, we can use it for a down-stream task such as sentiment analysis.\n",
        "    \n",
        "You have already done sentiment analysis using `tf.keras.layers.Embedding()` in Session 5. You will now aim to beat that baseline using your ELMo embeddings.    \n",
        "    \n",
        "**2.3.1** - Baseline model:\n",
        "    \n",
        "For the baseline model, you will use:\n",
        "    \n",
        "> - `tf.keras.Layers.Embedding()` layer\n",
        "> -  2 layers of `LSTM` with `hidden_size=300` \n",
        "    \n",
        "       \n",
        "Train it for sufficient epochs using an appropriate optimizer and learning rate.\n",
        "\n",
        "<br />\n",
        "\n",
        "</div>    "
      ]
    },
    {
      "cell_type": "code",
      "metadata": {
        "id": "3PX2880sB7cK"
      },
      "source": [
        "# Your code here\n"
      ],
      "execution_count": null,
      "outputs": []
    },
    {
      "cell_type": "markdown",
      "metadata": {
        "id": "Fw2UClllB7cK"
      },
      "source": [
        "<div class=\"alert alert-block alert-danger\" style=\"color:black;background-color:#EFF8D0\">\n",
        "\n",
        "    \n",
        "    \n",
        "**2.3.2** - Directly using pre-trained `word2vec`:\n",
        "    \n",
        "For this section, use the pre-trained `word2vec` embeddings directly into your model. \n",
        "    \n",
        "You will build a `tf.Dataset` similar to the one created in Section 2.1 but instead of having a target as a series, the target should only be a class (positive or negative sentiment).    \n",
        "    \n",
        "Train, and compare its performance with the baseline model defined above **using the same architecture** as above.\n",
        "\n",
        "<br />\n",
        "</div>    "
      ]
    },
    {
      "cell_type": "code",
      "metadata": {
        "id": "qlD7-p7YB7cL"
      },
      "source": [
        "# Your code here\n"
      ],
      "execution_count": null,
      "outputs": []
    },
    {
      "cell_type": "markdown",
      "metadata": {
        "id": "jDktliNnB7cM"
      },
      "source": [
        "<div class=\"alert alert-block alert-danger\" style=\"color:black;background-color:#EFF8D0\">  \n",
        "    \n",
        "**2.3.3** - Using ELMo embeddings:\n",
        "    \n",
        "    \n",
        "> - Define the same model as above but use the `Toy_ELMo` after the input layer. \n",
        "    \n",
        "**NOTE**: Set `Toy_ELMo.trainable` to `False` to avoid retraining the model. \n",
        "        \n",
        "> - Create the **sauce** layer to combine the three embeddings from your `Toy_ELMo`. You should have **three** trainable parameters in this layer\n",
        "\n",
        "<img src=\"./part2images/sauce.png\" alt=\"drawing\" style=\"width:300px;\"/>    \n",
        "    \n",
        "Since we are not using any other embeddings, we will set the value of $\\gamma$ to 1.     \n",
        "> - Train the modified model sufficiently, and compare it to the previously trained models.\n",
        "\n",
        "<br />\n",
        "\n",
        "\n",
        "</div>    "
      ]
    },
    {
      "cell_type": "code",
      "metadata": {
        "id": "fwoQJLN9B7cM"
      },
      "source": [
        "# Your code here\n"
      ],
      "execution_count": null,
      "outputs": []
    },
    {
      "cell_type": "markdown",
      "metadata": {
        "id": "iaGlm5vxB7cO"
      },
      "source": [
        "**Your answer here**"
      ]
    },
    {
      "cell_type": "markdown",
      "metadata": {
        "id": "Qlg9WE8GB7cP"
      },
      "source": [
        "<div class=\"alert alert-block alert-danger\" style=\"color:black;background-color:#EFF8D0\"> \n",
        "\n",
        "### **2.4 [5 points] HOMEWORK QUIZ**\n",
        "<br />\n",
        "After attempting this part of the homework, answer the questions on edStem. All the questions depend on this part of the homework and you will not be able to answer them without attempting this part.\n",
        "  \n",
        "<br />\n",
        "\n",
        "</div>    "
      ]
    },
    {
      "cell_type": "markdown",
      "metadata": {
        "id": "ukSWbAl_B7cP"
      },
      "source": [
        "#### Answer the questions on EdStem"
      ]
    },
    {
      "cell_type": "markdown",
      "metadata": {
        "id": "OKE6Xd-XB7cP"
      },
      "source": [
        "___\n",
        "___\n"
      ]
    }
  ]
}